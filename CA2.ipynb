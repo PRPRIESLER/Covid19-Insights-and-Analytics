{
 "cells": [
  {
   "cell_type": "markdown",
   "id": "5f9f95d7",
   "metadata": {},
   "source": [
    "# Covid 19 Insights and Analytics"
   ]
  },
  {
   "cell_type": "markdown",
   "id": "a625a32f",
   "metadata": {},
   "source": [
    "![][some-id]\n",
    "\n",
    "[some-id]: https://images.unsplash.com/photo-1584483766114-2cea6facdf57?q=80&w=2070&auto=format&fit=crop&ixlib=rb-4.0.3&ixid=M3wxMjA3fDB8MHxwaG90by1wYWdlfHx8fGVufDB8fHx8fA%3D%3D \"Python Logo\""
   ]
  },
  {
   "cell_type": "markdown",
   "id": "be35c969",
   "metadata": {},
   "source": [
    "# Data Collection\n",
    "\n",
    "We have collected the dataset from the publicly available dataset as provided by WHO(World Health Organization) for Covid 19 confirmed cases, death counts, and daily updated dataset. The dataset are fetched from the Github repositories freely available to everyone. The links mainly are:\n",
    "- [Link 1 - Confirmed Cases](https://github.com/CSSEGISandData/COVID-19/blob/master/csse_covid_19_data/csse_covid_19_time_series/time_series_covid19_confirmed_global.csv)\n",
    "- [Link 2 - Deaths Globally](https://github.com/CSSEGISandData/COVID-19/blob/master/csse_covid_19_data/csse_covid_19_time_series/time_series_covid19_deaths_global.csv)\n",
    "-  [Link 3 - Twitter Data](https://github.com/CSSEGISandData/COVID-19/blob/master/csse_covid_19_data/csse_covid_19_time_series/time_series_covid19_deaths_global.csv)\n",
    "- [Link 4 - Global Vaccination](https://github.com/CSSEGISandData/COVID-19/blob/master/csse_covid_19_data/csse_covid_19_time_series/time_series_covid19_deaths_global.csv)"
   ]
  },
  {
   "cell_type": "code",
   "execution_count": 3,
   "id": "00b35b74",
   "metadata": {},
   "outputs": [],
   "source": [
    "\n",
    "# Initial Imports\n",
    "import random\n",
    "import warnings\n",
    "import numpy as np\n",
    "import pandas as pd\n",
    "import seaborn as sns\n",
    "import chart_studio.plotly as py\n",
    "import chart_studio.tools as tls\n",
    "import matplotlib.pyplot as plt\n",
    "\n",
    "from sklearn.pipeline import Pipeline\n",
    "from sklearn.svm import SVR\n",
    "from sklearn.linear_model import LinearRegression, BayesianRidge\n",
    "from sklearn.compose import ColumnTransformer\n",
    "from sklearn.preprocessing import MinMaxScaler, PolynomialFeatures\n",
    "from sklearn.model_selection import train_test_split, GridSearchCV, RandomizedSearchCV\n",
    "from sklearn.metrics import mean_squared_error, mean_absolute_error\n",
    "from sklearn.feature_extraction.text import CountVectorizer,TfidfVectorizer\n",
    "\n",
    "import plotly.express as px\n",
    "import folium\n",
    "from IPython.display import IFrame\n",
    "\n",
    "import pymongo\n",
    "from pymongo import MongoClient\n",
    "from sqlalchemy import create_engine\n",
    "\n",
    "%matplotlib inline\n",
    "warnings.filterwarnings(\"ignore\")\n",
    "\n",
    "from wordcloud import WordCloud, ImageColorGenerator\n",
    "from plotly.offline import iplot\n",
    "import nltk\n",
    "from nltk.tokenize import RegexpTokenizer\n",
    "\n",
    "import nltk\n",
    "import re\n",
    "import string\n",
    "from nltk.sentiment.vader import SentimentIntensityAnalyzer"
   ]
  },
  {
   "cell_type": "markdown",
   "id": "457ac2f2",
   "metadata": {},
   "source": [
    "# Mongo DB connection"
   ]
  },
  {
   "cell_type": "code",
   "execution_count": 4,
   "id": "d3d599d8",
   "metadata": {},
   "outputs": [],
   "source": [
    "client = MongoClient(\"localhost\",27017)"
   ]
  },
  {
   "cell_type": "code",
   "execution_count": 5,
   "id": "eb0c8102",
   "metadata": {},
   "outputs": [
    {
     "data": {
      "text/plain": [
       "Database(MongoClient(host=['localhost:27017'], document_class=dict, tz_aware=False, connect=True), 'db_dap2')"
      ]
     },
     "execution_count": 5,
     "metadata": {},
     "output_type": "execute_result"
    }
   ],
   "source": [
    "db = client.db_dap2\n",
    "db"
   ]
  },
  {
   "cell_type": "code",
   "execution_count": 7,
   "id": "40b4d713",
   "metadata": {},
   "outputs": [
    {
     "data": {
      "text/html": [
       "<div>\n",
       "<style scoped>\n",
       "    .dataframe tbody tr th:only-of-type {\n",
       "        vertical-align: middle;\n",
       "    }\n",
       "\n",
       "    .dataframe tbody tr th {\n",
       "        vertical-align: top;\n",
       "    }\n",
       "\n",
       "    .dataframe thead th {\n",
       "        text-align: right;\n",
       "    }\n",
       "</style>\n",
       "<table border=\"1\" class=\"dataframe\">\n",
       "  <thead>\n",
       "    <tr style=\"text-align: right;\">\n",
       "      <th></th>\n",
       "      <th>user_name</th>\n",
       "      <th>user_location</th>\n",
       "      <th>user_description</th>\n",
       "      <th>user_created</th>\n",
       "      <th>user_followers</th>\n",
       "      <th>user_friends</th>\n",
       "      <th>user_favourites</th>\n",
       "      <th>user_verified</th>\n",
       "      <th>date</th>\n",
       "      <th>text</th>\n",
       "      <th>hashtags</th>\n",
       "      <th>source</th>\n",
       "      <th>is_retweet</th>\n",
       "    </tr>\n",
       "  </thead>\n",
       "  <tbody>\n",
       "    <tr>\n",
       "      <th>0</th>\n",
       "      <td>ᏉᎥ☻լꂅϮ</td>\n",
       "      <td>astroworld</td>\n",
       "      <td>wednesday addams as a disney princess keepin i...</td>\n",
       "      <td>2017-05-26 05:46:42</td>\n",
       "      <td>624</td>\n",
       "      <td>950</td>\n",
       "      <td>18775</td>\n",
       "      <td>False</td>\n",
       "      <td>2020-07-25 12:27:21</td>\n",
       "      <td>If I smelled the scent of hand sanitizers toda...</td>\n",
       "      <td>NaN</td>\n",
       "      <td>Twitter for iPhone</td>\n",
       "      <td>False</td>\n",
       "    </tr>\n",
       "    <tr>\n",
       "      <th>1</th>\n",
       "      <td>Tom Basile 🇺🇸</td>\n",
       "      <td>New York, NY</td>\n",
       "      <td>Husband, Father, Columnist &amp; Commentator. Auth...</td>\n",
       "      <td>2009-04-16 20:06:23</td>\n",
       "      <td>2253</td>\n",
       "      <td>1677</td>\n",
       "      <td>24</td>\n",
       "      <td>True</td>\n",
       "      <td>2020-07-25 12:27:17</td>\n",
       "      <td>Hey @Yankees @YankeesPR and @MLB - wouldn't it...</td>\n",
       "      <td>NaN</td>\n",
       "      <td>Twitter for Android</td>\n",
       "      <td>False</td>\n",
       "    </tr>\n",
       "    <tr>\n",
       "      <th>2</th>\n",
       "      <td>Time4fisticuffs</td>\n",
       "      <td>Pewee Valley, KY</td>\n",
       "      <td>#Christian #Catholic #Conservative #Reagan #Re...</td>\n",
       "      <td>2009-02-28 18:57:41</td>\n",
       "      <td>9275</td>\n",
       "      <td>9525</td>\n",
       "      <td>7254</td>\n",
       "      <td>False</td>\n",
       "      <td>2020-07-25 12:27:14</td>\n",
       "      <td>@diane3443 @wdunlap @realDonaldTrump Trump nev...</td>\n",
       "      <td>['COVID19']</td>\n",
       "      <td>Twitter for Android</td>\n",
       "      <td>False</td>\n",
       "    </tr>\n",
       "    <tr>\n",
       "      <th>3</th>\n",
       "      <td>ethel mertz</td>\n",
       "      <td>Stuck in the Middle</td>\n",
       "      <td>#Browns #Indians #ClevelandProud #[]_[] #Cavs ...</td>\n",
       "      <td>2019-03-07 01:45:06</td>\n",
       "      <td>197</td>\n",
       "      <td>987</td>\n",
       "      <td>1488</td>\n",
       "      <td>False</td>\n",
       "      <td>2020-07-25 12:27:10</td>\n",
       "      <td>@brookbanktv The one gift #COVID19 has give me...</td>\n",
       "      <td>['COVID19']</td>\n",
       "      <td>Twitter for iPhone</td>\n",
       "      <td>False</td>\n",
       "    </tr>\n",
       "    <tr>\n",
       "      <th>4</th>\n",
       "      <td>DIPR-J&amp;K</td>\n",
       "      <td>Jammu and Kashmir</td>\n",
       "      <td>🖊️Official Twitter handle of Department of Inf...</td>\n",
       "      <td>2017-02-12 06:45:15</td>\n",
       "      <td>101009</td>\n",
       "      <td>168</td>\n",
       "      <td>101</td>\n",
       "      <td>False</td>\n",
       "      <td>2020-07-25 12:27:08</td>\n",
       "      <td>25 July : Media Bulletin on Novel #CoronaVirus...</td>\n",
       "      <td>['CoronaVirusUpdates', 'COVID19']</td>\n",
       "      <td>Twitter for Android</td>\n",
       "      <td>False</td>\n",
       "    </tr>\n",
       "  </tbody>\n",
       "</table>\n",
       "</div>"
      ],
      "text/plain": [
       "         user_name         user_location  \\\n",
       "0           ᏉᎥ☻լꂅϮ            astroworld   \n",
       "1    Tom Basile 🇺🇸          New York, NY   \n",
       "2  Time4fisticuffs      Pewee Valley, KY   \n",
       "3      ethel mertz  Stuck in the Middle    \n",
       "4         DIPR-J&K     Jammu and Kashmir   \n",
       "\n",
       "                                    user_description         user_created  \\\n",
       "0  wednesday addams as a disney princess keepin i...  2017-05-26 05:46:42   \n",
       "1  Husband, Father, Columnist & Commentator. Auth...  2009-04-16 20:06:23   \n",
       "2  #Christian #Catholic #Conservative #Reagan #Re...  2009-02-28 18:57:41   \n",
       "3  #Browns #Indians #ClevelandProud #[]_[] #Cavs ...  2019-03-07 01:45:06   \n",
       "4  🖊️Official Twitter handle of Department of Inf...  2017-02-12 06:45:15   \n",
       "\n",
       "   user_followers  user_friends  user_favourites  user_verified  \\\n",
       "0             624           950            18775          False   \n",
       "1            2253          1677               24           True   \n",
       "2            9275          9525             7254          False   \n",
       "3             197           987             1488          False   \n",
       "4          101009           168              101          False   \n",
       "\n",
       "                  date                                               text  \\\n",
       "0  2020-07-25 12:27:21  If I smelled the scent of hand sanitizers toda...   \n",
       "1  2020-07-25 12:27:17  Hey @Yankees @YankeesPR and @MLB - wouldn't it...   \n",
       "2  2020-07-25 12:27:14  @diane3443 @wdunlap @realDonaldTrump Trump nev...   \n",
       "3  2020-07-25 12:27:10  @brookbanktv The one gift #COVID19 has give me...   \n",
       "4  2020-07-25 12:27:08  25 July : Media Bulletin on Novel #CoronaVirus...   \n",
       "\n",
       "                            hashtags               source  is_retweet  \n",
       "0                                NaN   Twitter for iPhone       False  \n",
       "1                                NaN  Twitter for Android       False  \n",
       "2                        ['COVID19']  Twitter for Android       False  \n",
       "3                        ['COVID19']   Twitter for iPhone       False  \n",
       "4  ['CoronaVirusUpdates', 'COVID19']  Twitter for Android       False  "
      ]
     },
     "execution_count": 7,
     "metadata": {},
     "output_type": "execute_result"
    }
   ],
   "source": [
    "#reading 3 files and storing them\n",
    "dataset1 = pd.read_csv(\"https://raw.githubusercontent.com/CSSEGISandData/COVID-19/master/csse_covid_19_data/csse_covid_19_time_series/time_series_covid19_confirmed_global.csv\")\n",
    "dataset2 = pd.read_csv('https://raw.githubusercontent.com/CSSEGISandData/COVID-19/master/csse_covid_19_data/csse_covid_19_time_series/time_series_covid19_deaths_global.csv')\n",
    "dataset3 = pd.read_csv('data/covid19_tweets.csv')\n",
    "dataset4 = pd.read_json('data/global.json')\n",
    "dataset3.head()"
   ]
  },
  {
   "cell_type": "code",
   "execution_count": 8,
   "id": "f6b3f84c",
   "metadata": {},
   "outputs": [],
   "source": [
    "dataset1_dict = dataset1.to_dict(orient=\"records\")\n",
    "dataset2_dict = dataset2.to_dict(orient=\"records\")\n",
    "dataset3_dict = dataset3.to_dict(orient=\"records\")\n",
    "dataset4_dict = dataset4.to_dict(orient=\"records\")"
   ]
  },
  {
   "cell_type": "code",
   "execution_count": null,
   "id": "d10e582d",
   "metadata": {},
   "outputs": [],
   "source": [
    "db.collection1.insert_many(dataset1_dict)\n",
    "db.collection2.insert_many(dataset2_dict)\n",
    "db.collection3.insert_many(dataset3_dict)\n",
    "db.collection4.insert_many(dataset4_dict)"
   ]
  },
  {
   "cell_type": "code",
   "execution_count": null,
   "id": "50bfaa63",
   "metadata": {},
   "outputs": [],
   "source": [
    "print(list(db.collection3.find().limit(1)))"
   ]
  },
  {
   "cell_type": "code",
   "execution_count": null,
   "id": "fa0e4d1d",
   "metadata": {},
   "outputs": [],
   "source": [
    "collection1 = db[\"collection1\"]\n",
    "r1 = collection1.find()\n",
    "conf_cases_df = pd.DataFrame(r1)\n",
    "\n",
    "collection2 = db[\"collection2\"]\n",
    "r2 = collection2.find()\n",
    "death_cases_df = pd.DataFrame(r2)\n",
    "\n",
    "collection3 = db[\"collection3\"]\n",
    "r3 = collection3.find()\n",
    "twitter = pd.DataFrame(r3)\n",
    "\n",
    "collection4 = db[\"collection4\"]\n",
    "r4 = collection3.find()\n",
    "vaccination_df = pd.DataFrame(r4)"
   ]
  },
  {
   "cell_type": "code",
   "execution_count": null,
   "id": "539171a5",
   "metadata": {},
   "outputs": [],
   "source": [
    "def drop_id(dataframes):\n",
    "    for i in dataframes:\n",
    "        i.drop('_id',axis=1,inplace=True)\n",
    "drop_id([conf_cases_df,\n",
    "         death_cases_df,twitter\n",
    "])"
   ]
  },
  {
   "cell_type": "code",
   "execution_count": null,
   "id": "07159de9",
   "metadata": {},
   "outputs": [],
   "source": [
    "# Confirmed Cases of COVID 19\n",
    "conf_cases_df.head(5)"
   ]
  },
  {
   "cell_type": "code",
   "execution_count": null,
   "id": "4b3a7091",
   "metadata": {},
   "outputs": [],
   "source": [
    "# Death Cases of Covid19\n",
    "death_cases_df.head(5)"
   ]
  },
  {
   "cell_type": "code",
   "execution_count": null,
   "id": "11ca9ca5",
   "metadata": {},
   "outputs": [],
   "source": [
    "# Twitter Tweets over coronavirus\n",
    "twitter.head()"
   ]
  },
  {
   "cell_type": "code",
   "execution_count": null,
   "id": "f7ade78c",
   "metadata": {},
   "outputs": [],
   "source": [
    "# Fetching the Vaccination data from the semistructured dataset as stored in MongoDB\n",
    "# Connect to MongoDB\n",
    "client = MongoClient('localhost', 27017)  # Update with your MongoDB connection details\n",
    "db = client['db_dap2']  # Replace 'your_database_name' with your actual database name\n",
    "collection = db['collection4']  # Replace 'your_collection_name' with your actual collection name\n",
    "\n",
    "# Initialize empty lists to store extracted information\n",
    "country_names = []\n",
    "regions = []\n",
    "income_levels = []\n",
    "country_codes = []\n",
    "populations = []\n",
    "has_vaccines = []\n",
    "income_level_name = []\n",
    "response_date = []\n",
    "\n",
    "# Data Retrival from MongoDB\n",
    "cursor = collection.find()\n",
    "for country_info in cursor:\n",
    "    fields = country_info.get('fields', {})\n",
    "    country_names.append(fields.get('countryName'))\n",
    "    regions.append(fields.get('wbRegion'))\n",
    "    income_levels.append(fields.get('wbIncomeLevelName'))\n",
    "    country_codes.append(fields.get('wbCountryCode'))\n",
    "    populations.append(fields.get('wbPopulation2019'))\n",
    "    has_vaccines.append(fields.get('owidHasVaccine', False))\n",
    "    income_level_name.append(fields.get('wbIncomeLevelName'))\n",
    "    response_date.append(fields.get('mostRecentResponseDate'))\n",
    "\n",
    "# DataFrame creation\n",
    "vaccination_df = pd.DataFrame({'CountryName': country_names,\n",
    "                                'Region': regions,\n",
    "                                'IncomeLevel': income_levels,\n",
    "                                'CountryCode': country_codes,\n",
    "                                'Population': populations,\n",
    "                                'HasVaccine': has_vaccines,\n",
    "                                'IncomeLevelName': income_level_name,\n",
    "                                'ResponseDate': response_date})\n",
    "\n",
    "vaccination_df"
   ]
  },
  {
   "cell_type": "markdown",
   "id": "df11123e",
   "metadata": {},
   "source": [
    "### Checking the timeline"
   ]
  },
  {
   "cell_type": "code",
   "execution_count": null,
   "id": "4365f24f",
   "metadata": {},
   "outputs": [],
   "source": [
    "# Lets grab the dates columns only for now. \n",
    "\n",
    "death_cases_df.columns[4:]"
   ]
  },
  {
   "cell_type": "markdown",
   "id": "cb3d3f17",
   "metadata": {},
   "source": [
    "### Null Values Checkpoint"
   ]
  },
  {
   "cell_type": "code",
   "execution_count": null,
   "id": "88ffd35b",
   "metadata": {},
   "outputs": [],
   "source": [
    "# Now let's check the sum of the deaths for a particular country\n",
    "death_cases_df.isna().sum()"
   ]
  },
  {
   "cell_type": "code",
   "execution_count": null,
   "id": "bdf89dc1",
   "metadata": {},
   "outputs": [],
   "source": [
    "death_cases_df.dropna(subset=['Lat'],inplace=True)"
   ]
  },
  {
   "cell_type": "code",
   "execution_count": null,
   "id": "87c47a3f",
   "metadata": {},
   "outputs": [],
   "source": [
    "conf_cases_df.dropna(subset=['Lat'],inplace=True)"
   ]
  },
  {
   "cell_type": "code",
   "execution_count": null,
   "id": "b52bd300",
   "metadata": {},
   "outputs": [],
   "source": [
    "conf_cases_df.isna().sum()"
   ]
  },
  {
   "cell_type": "markdown",
   "id": "1d4ff5c1",
   "metadata": {},
   "source": [
    "# Postgres Integration\n",
    "Now we connect and save the Datasets to Postgres"
   ]
  },
  {
   "cell_type": "code",
   "execution_count": null,
   "id": "3a26e0e5",
   "metadata": {},
   "outputs": [],
   "source": [
    "db_params = {\n",
    "    \"host\": \"localhost\",\n",
    "    \"database\": \"dap\",\n",
    "    \"user\": \"postgres\",\n",
    "    \"password\": \"3679\",\n",
    "}\n",
    "import psycopg2\n",
    "conn = psycopg2.connect(**db_params)"
   ]
  },
  {
   "cell_type": "code",
   "execution_count": null,
   "id": "da1b66db",
   "metadata": {},
   "outputs": [],
   "source": [
    "cursor = conn.cursor()\n",
    "engine = create_engine(f'postgresql://{db_params[\"user\"]}:{db_params[\"password\"]}@{db_params[\"host\"]}/{db_params[\"database\"]}')"
   ]
  },
  {
   "cell_type": "code",
   "execution_count": null,
   "id": "fa2df8d3",
   "metadata": {},
   "outputs": [],
   "source": [
    "df1 = conf_cases_df.copy()\n",
    "df2 = death_cases_df.copy()\n",
    "df3 = twitter.copy()\n",
    "df4 = vaccination_df.copy()"
   ]
  },
  {
   "cell_type": "code",
   "execution_count": null,
   "id": "454a4ab1",
   "metadata": {},
   "outputs": [],
   "source": [
    "dataframes = [df1,df2,df3,df4]\n",
    "table_names = [\"c1\",\"c2\",\"c3\",\"c4\"]\n",
    "\n",
    "# Convert ObjectId to string in each DataFrame\n",
    "\n",
    "# Insert data into PostgreSQL tables\n",
    "for df, table_name in zip(dataframes, table_names):\n",
    "    df.to_sql(table_name, engine, if_exists='replace', index=False)\n",
    "\n",
    "# Commit the transaction\n",
    "conn.commit()\n",
    "# Close the connection\n",
    "#conn.close()"
   ]
  },
  {
   "cell_type": "code",
   "execution_count": null,
   "id": "8ffb59fe",
   "metadata": {},
   "outputs": [],
   "source": [
    "### Fetching from postgres"
   ]
  },
  {
   "cell_type": "code",
   "execution_count": null,
   "id": "4b582ef5",
   "metadata": {},
   "outputs": [],
   "source": [
    "dict1 = {}\n",
    "def fetch(tables):\n",
    "    count=4\n",
    "    for i in tables:\n",
    "        conn = psycopg2.connect(**db_params)\n",
    "        query = (f\"SELECT * FROM {i};\")\n",
    "        for i in range(count,0,-1):\n",
    "            dict1[count] = pd.read_sql_query(query, conn)\n",
    "            count-=1\n",
    "            break\n",
    "        # Display the DataFrame\n",
    "        \n",
    "        \n",
    "fetch(['c1','c2','c3','c4'])"
   ]
  },
  {
   "cell_type": "code",
   "execution_count": null,
   "id": "3e72321a",
   "metadata": {},
   "outputs": [],
   "source": [
    "conf_cases_df = dict1[4]\n",
    "death_cases_df = dict1[3]\n",
    "twitter = dict1[2]\n",
    "vaccination_df = dict1[1]"
   ]
  },
  {
   "cell_type": "code",
   "execution_count": null,
   "id": "f9392f60",
   "metadata": {},
   "outputs": [],
   "source": [
    "conf_cases_df.head(5)"
   ]
  },
  {
   "cell_type": "code",
   "execution_count": null,
   "id": "b1904ea5",
   "metadata": {},
   "outputs": [],
   "source": [
    "death_cases_df.head(5)"
   ]
  },
  {
   "cell_type": "markdown",
   "id": "986abe52",
   "metadata": {},
   "source": [
    "# EDA - Visualizations -> Geographical Analytics Checkpoint"
   ]
  },
  {
   "cell_type": "code",
   "execution_count": null,
   "id": "0b733951",
   "metadata": {},
   "outputs": [],
   "source": [
    "# folium map depicting the number of COVID cases all over the world\n",
    "m = folium.Map(location=[death_cases_df['Lat'].mean(), death_cases_df['Long'].mean()], zoom_start=4)\n",
    "\n",
    "for index, row in conf_cases_df.iterrows():\n",
    "    folium.CircleMarker(location=[row['Lat'],row['Long']],\n",
    "                       radius=row['3/9/23']/1000000,\n",
    "                       color = 'Green',\n",
    "                       fill = True,\n",
    "                       fill_opacity = 0.15,\n",
    "                       popup = f\"{row['Country/Region']}: {row['3/9/23']} deaths\").add_to(m)\n",
    "    \n",
    "m.save('covid_deaths_map.html')\n",
    "\n",
    "IFrame(src='./covid_deaths_map.html', width=1700, height=600)   "
   ]
  },
  {
   "cell_type": "code",
   "execution_count": null,
   "id": "21e06d74",
   "metadata": {},
   "outputs": [],
   "source": [
    "# Country wise color distributed death count representation over the world\n",
    "fig = px.choropleth(death_cases_df, locations=\"Country/Region\", locationmode = \"country names\",\n",
    "                    color=\"3/9/23\",\n",
    "                    hover_name=\"Country/Region\",\n",
    "                    scope = 'world',\n",
    "                    template = 'plotly_dark',\n",
    "                    color_continuous_scale=\"Blues\")\n",
    "fig.show()"
   ]
  },
  {
   "cell_type": "code",
   "execution_count": null,
   "id": "9964f9ef",
   "metadata": {},
   "outputs": [],
   "source": [
    "# Country wise color distributed death count representation over asia\n",
    "fig = px.choropleth(death_cases_df, locations=\"Country/Region\", locationmode = \"country names\",\n",
    "                    color=\"3/9/23\",\n",
    "                    hover_name=\"Country/Region\",\n",
    "                    scope = 'asia',\n",
    "                    template = 'plotly_dark',\n",
    "                    color_continuous_scale=\"Viridis\")\n",
    "fig.show()"
   ]
  },
  {
   "cell_type": "code",
   "execution_count": null,
   "id": "cd3a535a",
   "metadata": {},
   "outputs": [],
   "source": [
    "# Country wise color distributed death count representation over Europe\n",
    "\n",
    "fig = px.choropleth(death_cases_df, locations=\"Country/Region\", locationmode = \"country names\",\n",
    "                    color=\"3/9/23\",\n",
    "                    hover_name=\"Country/Region\",\n",
    "                    scope = 'europe',\n",
    "                    template = 'plotly_dark',\n",
    "                    color_continuous_scale=\"Blues\")\n",
    "fig.show()"
   ]
  },
  {
   "cell_type": "code",
   "execution_count": null,
   "id": "529262fb",
   "metadata": {},
   "outputs": [],
   "source": [
    "# Country wise color distributed death count representation over North America\n",
    "\n",
    "fig = px.choropleth(death_cases_df, locations=\"Country/Region\", locationmode = \"country names\",\n",
    "                    color=\"3/9/23\",\n",
    "                    hover_name=\"Country/Region\",\n",
    "                    scope = 'north america',\n",
    "                    template = 'plotly_dark',\n",
    "                    color_continuous_scale=\"Greens\")\n",
    "fig.show()"
   ]
  },
  {
   "cell_type": "code",
   "execution_count": null,
   "id": "bd5b7c29",
   "metadata": {},
   "outputs": [],
   "source": [
    "# Country wise color distributed death count representation over South America\n",
    "\n",
    "fig = px.choropleth(death_cases_df, locations=\"Country/Region\", locationmode = \"country names\",\n",
    "                    color=\"3/9/23\",\n",
    "                    hover_name=\"Country/Region\",\n",
    "                    scope = 'south america',\n",
    "                    template = 'plotly_dark',\n",
    "                    color_continuous_scale=\"Greens\")\n",
    "fig.show()"
   ]
  },
  {
   "cell_type": "markdown",
   "id": "8b9c5090",
   "metadata": {},
   "source": [
    "## Dataframe Manipulation\n",
    "> Now here we wanted to show the increase in the deaths overtime for each and every country with the help of a animation code using plotly. However, our code wasn't able to do so as the data is in a format where the dates are in the column names. The plotly arguments take the date as a instance value present in the dataframe. So we need to fetch the date data into the dataframe. \n",
    ">> We also need to keep in mind the length of the data as well. The dates that we have are almost above thousands of them ranging from 2020 to 2023. So to create a melted dataframe for each and every date would create a very large dataset that would be difficult to work with. So skipping a few dates might be a good idea when our target is to show the progress/increase in deaths over time. "
   ]
  },
  {
   "cell_type": "code",
   "execution_count": null,
   "id": "3bd48565",
   "metadata": {},
   "outputs": [],
   "source": [
    "# Checking the dates in the columns here once for idea\n",
    "list(death_cases_df.columns[4:15]),len(list(death_cases_df.columns[4:]))"
   ]
  },
  {
   "cell_type": "markdown",
   "id": "507c12e2",
   "metadata": {},
   "source": [
    "**So the count of date elements present in our dataframe is *1143***\n",
    "> **That means 1143 days**"
   ]
  },
  {
   "cell_type": "code",
   "execution_count": null,
   "id": "241ffc3a",
   "metadata": {},
   "outputs": [],
   "source": [
    "from datetime import datetime\n",
    "date_objects = [datetime.strptime(date_str, '%m/%d/%y') for date_str in list(death_cases_df.columns[4:])]"
   ]
  },
  {
   "cell_type": "code",
   "execution_count": null,
   "id": "fde07199",
   "metadata": {},
   "outputs": [],
   "source": [
    "len(date_objects),len(death_cases_df)"
   ]
  },
  {
   "cell_type": "markdown",
   "id": "b8e7b8b3",
   "metadata": {},
   "source": [
    "> ### Headnote for the upcoming task\n",
    "Ok now to show the animation of the scatter plot changing over time with the deaths accumulated for the given time period we need to change the dataset a bit. we are not going to change the actual data. however make a copy of the dataframe and then add rows into it as per given date columns. "
   ]
  },
  {
   "cell_type": "code",
   "execution_count": null,
   "id": "19a8f081",
   "metadata": {},
   "outputs": [],
   "source": [
    "# Earlier we made the date objects so as to know how many dates we are working with. since\n",
    "# we are working with a lot of data we need to cut short the dates by keeping dates with a 30 days gap."
   ]
  },
  {
   "cell_type": "code",
   "execution_count": null,
   "id": "76535e1e",
   "metadata": {},
   "outputs": [],
   "source": [
    "len(date_objects[::10])"
   ]
  },
  {
   "cell_type": "code",
   "execution_count": null,
   "id": "e2fd8cb1",
   "metadata": {},
   "outputs": [],
   "source": [
    "animation_death_df = pd.melt(death_cases_df, id_vars=['Province/State','Country/Region','Lat','Long'], var_name='Date', value_name='Deaths')"
   ]
  },
  {
   "cell_type": "code",
   "execution_count": null,
   "id": "7c450e50",
   "metadata": {},
   "outputs": [],
   "source": [
    "animation_death_df[animation_death_df['Country/Region']=='Afghanistan'].head(5)"
   ]
  },
  {
   "cell_type": "code",
   "execution_count": null,
   "id": "4ef8ad1f",
   "metadata": {},
   "outputs": [],
   "source": [
    "columns_to_take = list(death_cases_df.columns[:4])\n",
    "for i in list(death_cases_df.columns[4::]):\n",
    "    columns_to_take.append(i)\n",
    "columns_to_take[:10]"
   ]
  },
  {
   "cell_type": "code",
   "execution_count": null,
   "id": "154aa33a",
   "metadata": {},
   "outputs": [],
   "source": [
    "for_animation = death_cases_df[columns_to_take].copy()\n",
    "for_animation['Total Death'] = death_cases_df['3/9/23']\n",
    "for_animation.head(5)"
   ]
  },
  {
   "cell_type": "code",
   "execution_count": null,
   "id": "d93ad61f",
   "metadata": {},
   "outputs": [],
   "source": [
    "# Here we remove all the columns except the columns that have the dates\n",
    "new_columns_to_take = list(for_animation.columns)\n",
    "new_columns_to_take = new_columns_to_take[4:]\n",
    "new_columns_to_take[:10]"
   ]
  },
  {
   "cell_type": "code",
   "execution_count": null,
   "id": "4d6758c2",
   "metadata": {},
   "outputs": [],
   "source": [
    "# for_animation = for_animation.drop('Province/State',axis=1)\n",
    "agg_dict = {col:'sum' for col in new_columns_to_take}\n",
    "agg_dict['Lat'] = 'first'\n",
    "agg_dict['Long'] = 'first'\n",
    "for_animation = for_animation.groupby('Country/Region').agg(agg_dict).reset_index()\n",
    "for_animation.head()"
   ]
  },
  {
   "cell_type": "code",
   "execution_count": null,
   "id": "8585f4be",
   "metadata": {},
   "outputs": [],
   "source": [
    "new_columns_to_take = list(for_animation.columns[:1])\n",
    "for i in list(for_animation.columns[1:-3:10]):\n",
    "    new_columns_to_take.append(i)\n",
    "new_columns_to_take.append('Lat')\n",
    "new_columns_to_take.append('Long')\n",
    "new_columns_to_take.append('Total Death')\n",
    "print(new_columns_to_take[1:4],new_columns_to_take[-2:],len(new_columns_to_take))\n",
    "for_animation = for_animation[new_columns_to_take]\n",
    "for_animation.head(5)"
   ]
  },
  {
   "cell_type": "code",
   "execution_count": null,
   "id": "1f738e03",
   "metadata": {},
   "outputs": [],
   "source": [
    "animation_death_df = pd.melt(for_animation, id_vars=['Country/Region','Lat','Long','Total Death'], var_name='Date', value_name='Deaths')\n",
    "animation_death_df['Date'] = pd.to_datetime(animation_death_df['Date']).dt.date\n",
    "animation_death_df = animation_death_df.sort_values(by=['Country/Region','Date'])\n",
    "\n",
    "animation_death_df.head(5)"
   ]
  },
  {
   "cell_type": "markdown",
   "id": "f003cf27",
   "metadata": {},
   "source": [
    "Well our Dataset is now ready! Lets head over to the animation code!\n",
    "### Scatter plot over time showing the increasing death count."
   ]
  },
  {
   "cell_type": "code",
   "execution_count": null,
   "id": "f271bbfa",
   "metadata": {},
   "outputs": [],
   "source": [
    "px.scatter(data_frame=animation_death_df,\n",
    "          x = 'Deaths',\n",
    "          y = 'Total Death',\n",
    "          size='Deaths',\n",
    "          color='Country/Region',\n",
    "          title='COVID19 Global Deaths Analytics 2020-2023',\n",
    "          labels={'Deaths':'Total Deaths till Date',\n",
    "                  'Lat':'Latitude'},\n",
    "          log_x=False,log_y=True,\n",
    "          hover_name = 'Country/Region',\n",
    "          animation_frame='Date',\n",
    "          range_x=[-500,1300000],\n",
    "          range_y=[40000,2400000],\n",
    "          size_max=20*3)"
   ]
  },
  {
   "cell_type": "code",
   "execution_count": null,
   "id": "0f113563",
   "metadata": {},
   "outputs": [],
   "source": [
    "animation_death_df.head(5)"
   ]
  },
  {
   "cell_type": "markdown",
   "id": "2a6050da",
   "metadata": {},
   "source": [
    "## Further EDA for Modelling\n",
    "Ok now after some of the visualizations made above we now need to actually look through the datasets and form the connections for future tasks. Let's do that now"
   ]
  },
  {
   "cell_type": "code",
   "execution_count": null,
   "id": "42a02c06",
   "metadata": {},
   "outputs": [],
   "source": [
    "columns_confirmed = conf_cases_df.keys()[4:]\n",
    "columns_deaths = death_cases_df.keys()[4:]\n",
    "\n",
    "columns_confirmed, columns_deaths"
   ]
  },
  {
   "cell_type": "code",
   "execution_count": null,
   "id": "5af62ed9",
   "metadata": {},
   "outputs": [],
   "source": [
    "conf_dates_df = conf_cases_df[columns_confirmed].copy()\n",
    "death_dates_df = death_cases_df[columns_deaths].copy()\n",
    "death_dates_df.head(5)"
   ]
  },
  {
   "cell_type": "code",
   "execution_count": null,
   "id": "f705b281",
   "metadata": {},
   "outputs": [],
   "source": [
    "# Ok so as counted before we should have 1143 dates but lets check again\n",
    "total_days = len(columns_confirmed)"
   ]
  },
  {
   "cell_type": "code",
   "execution_count": null,
   "id": "7a48b1aa",
   "metadata": {},
   "outputs": [],
   "source": [
    "conf_keys = conf_dates_df.keys()\n",
    "death_keys = death_dates_df.keys()\n",
    "\n",
    "global_cases = []\n",
    "total_deaths = []\n",
    "fatality_rate = []\n",
    "\n",
    "for i in range(len(columns_confirmed)):\n",
    "    conf_sum = conf_dates_df[conf_keys[i]].sum()\n",
    "    death_sum = death_dates_df[death_keys[i]].sum()\n",
    "    \n",
    "    global_cases.append(conf_sum)\n",
    "    total_deaths.append(death_sum)\n",
    "    \n",
    "    # fatality rate is calculated here\n",
    "    fatality_rate.append(death_sum/conf_sum)\n"
   ]
  },
  {
   "cell_type": "code",
   "execution_count": null,
   "id": "0aa8b805",
   "metadata": {},
   "outputs": [],
   "source": [
    "# ok now we check the increase in death on a daily basis and the average\n",
    "def regular_increment(data):\n",
    "    return [data[i] if i == 0 else data[i] - data[i-1] for i in range(len(data))]\n",
    "\n",
    "def increment_average(data, span):\n",
    "    return [np.mean(data[i:i+span]) if i + span < len(data) else np.mean(data[i:len(data)]) for i in range(len(data))]\n"
   ]
  },
  {
   "cell_type": "code",
   "execution_count": null,
   "id": "482ae1b5",
   "metadata": {},
   "outputs": [],
   "source": [
    "# now lets grab the everyday increase in cases and the continuously increasing average to see how fast the increase is\n",
    "\n",
    "# confirmed cases\n",
    "span = 7\n",
    "global_daily_increment = regular_increment(global_cases)\n",
    "global_conf_avg = increment_average(global_cases, span)\n",
    "global_daily_increment_avg = increment_average(global_daily_increment, span)\n",
    "\n",
    "# deaths\n",
    "global_daily_death = regular_increment(total_deaths)\n",
    "global_death_avg = increment_average(total_deaths, span)\n",
    "global_daily_death_avg = increment_average(global_daily_death, span)"
   ]
  },
  {
   "cell_type": "code",
   "execution_count": null,
   "id": "c4575df3",
   "metadata": {},
   "outputs": [],
   "source": [
    "no_of_days = np.array([i for i in range(len(conf_keys))]).reshape(-1, 1)\n",
    "type(no_of_days[0][0])"
   ]
  },
  {
   "cell_type": "code",
   "execution_count": null,
   "id": "593ab95a",
   "metadata": {},
   "outputs": [],
   "source": [
    "global_cases = np.array(global_cases).reshape(-1, 1)\n",
    "total_deaths = np.array(total_deaths).reshape(-1, 1)"
   ]
  },
  {
   "cell_type": "code",
   "execution_count": null,
   "id": "2260a191",
   "metadata": {},
   "outputs": [],
   "source": [
    "future_target_days = 10\n",
    "forcasting_days = np.arange(len(conf_keys) + future_target_days).reshape(-1, 1)\n",
    "current_days = forcasting_days[:-future_target_days]"
   ]
  },
  {
   "cell_type": "code",
   "execution_count": null,
   "id": "cf6b96ff",
   "metadata": {},
   "outputs": [],
   "source": [
    "current_days,forcasting_days"
   ]
  },
  {
   "cell_type": "code",
   "execution_count": null,
   "id": "e24703de",
   "metadata": {},
   "outputs": [],
   "source": [
    "import datetime\n",
    "\n",
    "start = '1/22/2020'\n",
    "start_date = datetime.datetime.strptime(start, '%m/%d/%Y')\n",
    "forcasting_dates = [(start_date + datetime.timedelta(days=i)).strftime('%m/%d/%Y') for i in range(len(forcasting_days))]"
   ]
  },
  {
   "cell_type": "code",
   "execution_count": null,
   "id": "5fc88d86",
   "metadata": {},
   "outputs": [],
   "source": [
    "# Lets check if we got the future days beyond the current timeline of our dataset has been created correctly or not\n",
    "forcasting_dates[-10:]"
   ]
  },
  {
   "cell_type": "code",
   "execution_count": null,
   "id": "9a4acd74",
   "metadata": {},
   "outputs": [],
   "source": [
    "def to_flatten(arr):\n",
    "    return [i[0] for i in arr.tolist()]"
   ]
  },
  {
   "cell_type": "code",
   "execution_count": null,
   "id": "fa937dc4",
   "metadata": {},
   "outputs": [],
   "source": [
    "current_days = current_days.reshape(1, -1)[0]\n",
    "current_days.shape"
   ]
  },
  {
   "cell_type": "code",
   "execution_count": null,
   "id": "d833abd6",
   "metadata": {},
   "outputs": [],
   "source": [
    "current_days = current_days.reshape(1, -1)[0]\n",
    "sns.set_theme('paper')\n",
    "plt.figure(figsize=(16, 8))\n",
    "plt.plot(current_days, global_cases)\n",
    "plt.plot(current_days, global_conf_avg, linestyle='dashed', color='orange')\n",
    "plt.title('Coronavirus Cases Over Time', size=30)\n",
    "plt.xlabel('Since Jan 2020', size=30)\n",
    "plt.ylabel('No of Cases', size=30)\n",
    "plt.legend(['Global Coronavirus Cases', 'Increment Average {} Days'.format(span)], prop={'size': 20})\n",
    "plt.xticks(size=20)\n",
    "plt.yticks(size=20)\n",
    "plt.show()\n",
    "\n",
    "plt.figure(figsize=(16, 8))\n",
    "plt.plot(current_days, total_deaths)\n",
    "plt.plot(current_days, global_death_avg, linestyle='dashed', color='orange')\n",
    "plt.title('Coronavirus Deaths Over Time', size=30)\n",
    "plt.xlabel('Since Jan 2020', size=30)\n",
    "plt.ylabel('No of Cases', size=30)\n",
    "plt.legend(['Global Coronavirus Deaths', 'Increment Average {} Days'.format(span)], prop={'size': 20})\n",
    "plt.xticks(size=20)\n",
    "plt.yticks(size=20)\n",
    "plt.show()"
   ]
  },
  {
   "cell_type": "code",
   "execution_count": null,
   "id": "fead0641",
   "metadata": {},
   "outputs": [],
   "source": [
    "import matplotlib.pyplot as plt\n",
    "\n",
    "span = 7\n",
    "\n",
    "# Set the style to 'classic' to remove Seaborn styling\n",
    "plt.style.use('classic')\n",
    "\n",
    "plt.figure(figsize=(16, 10))\n",
    "\n",
    "# Bar plot for World Daily Increases in Confirmed Cases\n",
    "plt.bar(current_days, global_daily_increment, color='black')\n",
    "plt.plot(current_days, global_daily_increment_avg, color='yellow', linestyle='dashed',linewidth=2.5)\n",
    "plt.title('Global Daily Increases in Confirmed Cases', size=30)\n",
    "plt.xlabel('Since Jan 2020', size=30)\n",
    "plt.ylabel('No. of Cases', size=30)\n",
    "plt.legend(['Moving Average {} Days'.format(span), 'World Daily Increase in COVID-19 Cases'], prop={'size': 20})\n",
    "plt.xticks(size=20)\n",
    "plt.yticks(size=20)\n",
    "plt.show()\n",
    "\n",
    "# Bar plot for World Daily Increases in Confirmed Deaths\n",
    "plt.figure(figsize=(16, 10))\n",
    "plt.bar(current_days, global_daily_death, color='black')\n",
    "plt.plot(current_days, global_daily_death_avg, color='yellow', linestyle='dashed',linewidth=2.5)\n",
    "plt.title('Global Daily Increases in Confirmed Deaths', size=30)\n",
    "plt.xlabel('Since Jan 2020', size=30)\n",
    "plt.ylabel('No. of Cases', size=30)\n",
    "plt.legend(['Moving Average {} Days'.format(span), 'World Daily Increase in COVID-19 Deaths'], prop={'size': 20})\n",
    "plt.xticks(size=20)\n",
    "plt.yticks(size=20)\n",
    "plt.show()\n"
   ]
  },
  {
   "cell_type": "code",
   "execution_count": null,
   "id": "af3eae74",
   "metadata": {},
   "outputs": [],
   "source": [
    "def country_info(country):\n",
    "    conf = [conf_cases_df[conf_cases_df['Country/Region'] == country][conf_keys[i]].sum() for i in range(total_days)]\n",
    "    deaths = [death_cases_df[death_cases_df['Country/Region'] == country][death_keys[i]].sum() for i in range(total_days)]\n",
    "    return conf, deaths\n",
    "    \n",
    "    \n",
    "def country_visualizations(country):\n",
    "    country_info = country_info(country)\n",
    "    country_conf = country_info[0]\n",
    "    country_deaths = country_info[1]\n",
    "    \n",
    "    country_daily_increment = daily_increase(country_conf)\n",
    "    country_daily_death = daily_increase(country_deaths)\n",
    "    \n",
    "    country_plot(current_days, country_conf, country_daily_increment, country_daily_death, country)"
   ]
  },
  {
   "cell_type": "code",
   "execution_count": null,
   "id": "62151395",
   "metadata": {},
   "outputs": [],
   "source": [
    "def plot_country_data(data, countries, graph_name):\n",
    "    sns.set(style=\"darkgrid\")\n",
    "    for num, title in enumerate(graph_name):\n",
    "        plt.figure(figsize=(12, 8))\n",
    "        for country in countries:\n",
    "            plt.plot(data[country][num])\n",
    "        plt.legend(countries, prop={'size': 20})\n",
    "        plt.xlabel('Since Jan 2020', size=20)\n",
    "        plt.ylabel('No of Cases', size=20)\n",
    "        plt.title(title, size=30)\n",
    "        plt.xticks(size=20)\n",
    "        plt.yticks(size=20)\n",
    "        plt.show()\n",
    "\n",
    "# Example usage:\n",
    "compare_countries = ['India', 'US', 'Brazil', 'Russia', 'United Kingdom', 'France']\n",
    "graph_names = ['Coronavirus Confirmed Cases', 'Coronavirus Confirmed Deaths']\n",
    "\n",
    "country_data = {country: country_info(country) for country in compare_countries}\n",
    "\n",
    "plot_country_data(country_data, compare_countries, graph_names)\n"
   ]
  },
  {
   "cell_type": "code",
   "execution_count": null,
   "id": "5ac49f96",
   "metadata": {},
   "outputs": [],
   "source": [
    "unique_countries =  list(conf_cases_df['Country/Region'].unique())\n",
    "unique_countries"
   ]
  },
  {
   "cell_type": "code",
   "execution_count": null,
   "id": "61739ab1",
   "metadata": {},
   "outputs": [],
   "source": [
    "import operator\n",
    "\n",
    "country_conf_cases = []\n",
    "country_death_cases = [] \n",
    "country_active_cases = [] \n",
    "country_mortality_rate = [] \n",
    "\n",
    "no_cases = []\n",
    "for i in unique_countries:\n",
    "    cases_conf = conf_cases_df[conf_cases_df['Country/Region']==i]['3/9/23'].sum()\n",
    "    cases_death = death_cases_df[death_cases_df['Country/Region']==i]['3/9/23'].sum()\n",
    "    if cases_conf > 0:\n",
    "        country_conf_cases.append(cases_conf)\n",
    "        country_death_cases.append(cases_death)\n",
    "    else:\n",
    "        no_cases.append(i)\n",
    "        \n",
    "for i in no_cases:\n",
    "    unique_countries.remove(i)\n",
    "    \n",
    "# sort countries by the number of confirmed cases\n",
    "unique_countries = [k for k, v in sorted(zip(unique_countries, country_conf_cases), key=operator.itemgetter(1), reverse=True)]\n",
    "for i in range(len(unique_countries)):\n",
    "    country_conf_cases[i] = conf_cases_df[conf_cases_df['Country/Region']==unique_countries[i]]['3/9/23'].sum()\n",
    "    country_death_cases[i] = (death_cases_df[death_cases_df['Country/Region']==unique_countries[i]]['3/9/23'].sum())\n",
    "    country_mortality_rate.append(country_death_cases[i]/country_conf_cases[i])"
   ]
  },
  {
   "cell_type": "code",
   "execution_count": null,
   "id": "2a6a9690",
   "metadata": {},
   "outputs": [],
   "source": [
    "top_unique_countries = [] \n",
    "top_conf_cases = []\n",
    "top_death_cases = []\n",
    "others_conf = np.sum(country_conf_cases[10:])\n",
    "others_death = np.sum(country_death_cases[10:])\n",
    "\n",
    "for i in range(len(country_conf_cases[:10])):\n",
    "    top_unique_countries.append(unique_countries[i])\n",
    "    top_conf_cases.append(country_conf_cases[i])\n",
    "    top_death_cases.append(country_death_cases[i])\n",
    "top_unique_countries.append('Others')\n",
    "top_conf_cases.append(others_conf)\n",
    "top_death_cases.append(others_death)"
   ]
  },
  {
   "cell_type": "code",
   "execution_count": null,
   "id": "0a06f6cf",
   "metadata": {},
   "outputs": [],
   "source": [
    "fig = px.pie(pd.DataFrame(top_unique_countries, top_conf_cases),\n",
    "       names = top_unique_countries,\n",
    "       values = top_conf_cases,\n",
    "           color_discrete_sequence=px.colors.sequential.Brwnyl_r, title=\"Covid19 Cases Across Countries\" )\n",
    "fig.update_layout(title_x=0.5)"
   ]
  },
  {
   "cell_type": "code",
   "execution_count": null,
   "id": "856a302c",
   "metadata": {},
   "outputs": [],
   "source": [
    "fig = px.pie(pd.DataFrame(top_unique_countries, top_death_cases),\n",
    "       names = top_unique_countries,\n",
    "       values= top_death_cases,\n",
    "           color_discrete_sequence=px.colors.sequential.Brwnyl_r, title=\"Covid19 Deaths across Countries\" )\n",
    "fig.update_layout(title_x=0.5)"
   ]
  },
  {
   "cell_type": "markdown",
   "id": "7ff53e43",
   "metadata": {},
   "source": [
    "# More Global Json File Visualizations"
   ]
  },
  {
   "cell_type": "code",
   "execution_count": null,
   "id": "9cbe3757",
   "metadata": {},
   "outputs": [],
   "source": [
    "vaccination_df"
   ]
  },
  {
   "cell_type": "code",
   "execution_count": null,
   "id": "5c47b3b9",
   "metadata": {},
   "outputs": [],
   "source": [
    "vaccination_df.rename(columns={'CountryName':'Country/Region'},inplace=True)"
   ]
  },
  {
   "cell_type": "code",
   "execution_count": null,
   "id": "093a0083",
   "metadata": {},
   "outputs": [],
   "source": [
    "len(vaccination_df['Country/Region'].unique())"
   ]
  },
  {
   "cell_type": "code",
   "execution_count": null,
   "id": "21265e56",
   "metadata": {},
   "outputs": [],
   "source": [
    "merged_df = pd.merge(vaccination_df, death_cases_df, on='Country/Region')\n",
    "merged_df\n"
   ]
  },
  {
   "cell_type": "code",
   "execution_count": null,
   "id": "89912732",
   "metadata": {},
   "outputs": [],
   "source": [
    "plt.figure(figsize=(14, 8))\n",
    "sns.barplot(x='Region', y='3/9/23', data=merged_df, palette='viridis')\n",
    "plt.title('Population by Region')\n",
    "plt.xlabel('Region')\n",
    "plt.ylabel('Death Count')\n",
    "plt.xticks(rotation=45)\n",
    "plt.show()"
   ]
  },
  {
   "cell_type": "code",
   "execution_count": null,
   "id": "4e8321f4",
   "metadata": {},
   "outputs": [],
   "source": [
    "import pandas as pd\n",
    "import matplotlib.pyplot as plt\n",
    "import numpy as np\n",
    "\n",
    "# Assuming your DataFrame is named df\n",
    "# If not, replace df with your actual DataFrame variable\n",
    "\n",
    "# Group by Region and count the occurrences of True and False in HasVaccine\n",
    "vaccine_data = merged_df.groupby(['Region', 'HasVaccine']).size().unstack()\n",
    "\n",
    "# Set the figure size\n",
    "plt.figure(figsize=(10, 6))\n",
    "\n",
    "# Get the number of regions\n",
    "num_regions = len(vaccine_data)\n",
    "\n",
    "# Create an array of bar positions\n",
    "bar_positions = np.arange(num_regions)\n",
    "\n",
    "# Plot the stacked bar chart\n",
    "bottom = None\n",
    "for vaccine_status in vaccine_data.columns:\n",
    "    plt.bar(bar_positions, vaccine_data[vaccine_status], label=vaccine_status, bottom=bottom)\n",
    "    if bottom is None:\n",
    "        bottom = np.zeros(num_regions)\n",
    "    bottom += vaccine_data[vaccine_status]\n",
    "\n",
    "# Add labels and title\n",
    "plt.title('Vaccine Status by Region')\n",
    "plt.xlabel('Region')\n",
    "plt.ylabel('Count')\n",
    "\n",
    "# Rotate x-axis labels for better readability\n",
    "plt.xticks(bar_positions, vaccine_data.index, rotation=45, ha='right')\n",
    "\n",
    "plt.legend()\n",
    "\n",
    "# Show the plot\n",
    "plt.show()\n"
   ]
  },
  {
   "cell_type": "markdown",
   "id": "af6680f8",
   "metadata": {},
   "source": [
    "# Modelling"
   ]
  },
  {
   "cell_type": "code",
   "execution_count": null,
   "id": "738cced5",
   "metadata": {},
   "outputs": [],
   "source": [
    "# For the models to identify the patterns let's modify the data accordingly\n",
    "hop_days = 926\n",
    "x_train_conf, x_test_conf, y_train_conf, y_test_conf = train_test_split(no_of_days[hop_days:-50], \n",
    "                                                                        global_cases[hop_days:-50],\n",
    "                                                                        test_size=0.07,\n",
    "                                                                        shuffle=False)"
   ]
  },
  {
   "cell_type": "code",
   "execution_count": null,
   "id": "dbc8dbf3",
   "metadata": {},
   "outputs": [],
   "source": [
    "conf_cases_df.columns[926:-53]"
   ]
  },
  {
   "cell_type": "markdown",
   "id": "d49e1456",
   "metadata": {},
   "source": [
    "OK now we have the dataset with us that is divided into training and test set. We now use a pipeline to train both the models and use **named_steps** to access the transformed features. We then use the transformed features from fetched through the pipeline to calculate the **MeanSquaredError(MSE)**"
   ]
  },
  {
   "cell_type": "markdown",
   "id": "4dc2fddf",
   "metadata": {},
   "source": [
    "# Model Training - Randomized Search CV"
   ]
  },
  {
   "cell_type": "code",
   "execution_count": null,
   "id": "3dffb4d1",
   "metadata": {},
   "outputs": [],
   "source": [
    "# First we transform the data transform our data for polynomial regression\n",
    "poly_reg = PolynomialFeatures(degree=3)\n",
    "bayesian_reg_x_train_conf = poly_reg.fit_transform(x_train_conf)\n",
    "bayesian_reg_x_test_conf = poly_reg.fit_transform(x_test_conf)\n",
    "bayesian_reg_forcasting_days = poly_reg.fit_transform(forcasting_days)\n",
    "\n",
    "tol = [1e-6, 1e-5, 1e-4, 1e-3, 1e-2]\n",
    "alpha_1 = [1e-7, 1e-6, 1e-5, 1e-4, 1e-3]\n",
    "alpha_2 = [1e-7, 1e-6, 1e-5, 1e-4, 1e-3]\n",
    "lambda_1 = [1e-7, 1e-6, 1e-5, 1e-4, 1e-3]\n",
    "lambda_2 = [1e-7, 1e-6, 1e-5, 1e-4, 1e-3]\n",
    "normalize = [True, False]\n",
    "\n",
    "bayesian_grid = {'tol': tol, 'alpha_1': alpha_1, 'alpha_2' : alpha_2, \n",
    "                 'lambda_1': lambda_1, 'lambda_2' : lambda_2}\n",
    "\n",
    "bayesian_model = BayesianRidge(fit_intercept=True)\n",
    "bayesian_search = RandomizedSearchCV(bayesian_model, \n",
    "                                     bayesian_grid, \n",
    "                                     scoring='neg_mean_squared_error', \n",
    "                                     cv=3, \n",
    "                                     return_train_score=True, \n",
    "                                     n_jobs=-1, \n",
    "                                     n_iter=40, verbose=1)\n",
    "bayesian_search.fit(bayesian_reg_x_train_conf, y_train_conf)"
   ]
  },
  {
   "cell_type": "code",
   "execution_count": null,
   "id": "e6b0636c",
   "metadata": {},
   "outputs": [],
   "source": [
    "bayesian_search.best_params_"
   ]
  },
  {
   "cell_type": "markdown",
   "id": "2354ea88",
   "metadata": {},
   "source": [
    "### Model Prediction\n",
    "Ok let's do the prediction now with the models we have created. First we do the estimation with the model that was created using GridSearchCV."
   ]
  },
  {
   "cell_type": "code",
   "execution_count": null,
   "id": "3133158a",
   "metadata": {},
   "outputs": [],
   "source": [
    "best_model = bayesian_search.best_estimator_\n",
    "test_bayesian_prediction = best_model.predict(bayesian_reg_x_test_conf)\n",
    "bayesian_forcasting_pred = best_model.predict(bayesian_reg_forcasting_days)\n",
    "print('MAE:', mean_absolute_error(test_bayesian_prediction, y_test_conf))\n",
    "print('MSE:',mean_squared_error(test_bayesian_prediction, y_test_conf))"
   ]
  },
  {
   "cell_type": "code",
   "execution_count": null,
   "id": "91c37e57",
   "metadata": {},
   "outputs": [],
   "source": [
    "plt.plot(y_test_conf)\n",
    "plt.plot(test_bayesian_prediction)\n",
    "plt.legend(['Test Data', 'Bayesian Ridge Polynomial Predictions'])"
   ]
  },
  {
   "cell_type": "code",
   "execution_count": null,
   "id": "ddf089fc",
   "metadata": {},
   "outputs": [],
   "source": [
    "svm_confirmed = SVR(shrinking=True, kernel='poly',gamma=0.01, epsilon=1,degree=3, C=0.1)\n",
    "svm_confirmed.fit(x_train_conf, y_train_conf)\n",
    "svm_pred = svm_confirmed.predict(forcasting_days)\n",
    "\n",
    "svm_test_pred = svm_confirmed.predict(x_test_conf)\n",
    "plt.plot(y_test_conf)\n",
    "plt.plot(svm_test_pred)\n",
    "plt.legend(['Test Data', 'SVM Predictions'])\n",
    "print('MAE:', mean_absolute_error(svm_test_pred, y_test_conf))\n",
    "print('MSE:',mean_squared_error(svm_test_pred, y_test_conf))"
   ]
  },
  {
   "cell_type": "code",
   "execution_count": null,
   "id": "47f5a8a6",
   "metadata": {},
   "outputs": [],
   "source": [
    "def plot_predictions(x, y, pred, algo_name, color):\n",
    "    plt.figure(figsize=(12, 8))\n",
    "    plt.plot(x, y)\n",
    "    plt.plot(forcasting_days, pred, linestyle='dashed', color=color)\n",
    "    plt.title('Global Coronavirus Cases Over Time', size=30)\n",
    "    plt.xlabel('Since Jan 2020', size=30)\n",
    "    plt.ylabel('No. of Cases', size=30)\n",
    "    plt.legend(['Confirmed Cases', algo_name], prop={'size': 20})\n",
    "    plt.xticks(size=20)\n",
    "    plt.yticks(size=20)\n",
    "    plt.show()"
   ]
  },
  {
   "cell_type": "code",
   "execution_count": null,
   "id": "86fb883d",
   "metadata": {},
   "outputs": [],
   "source": [
    "plot_predictions(current_days, global_cases, svm_pred, 'SVM Predictions', 'purple')"
   ]
  },
  {
   "cell_type": "code",
   "execution_count": null,
   "id": "dc4abea0",
   "metadata": {},
   "outputs": [],
   "source": [
    "plot_predictions(current_days, global_cases, bayesian_forcasting_pred, 'Bayesian Ridge Regression Predictions', 'green')"
   ]
  },
  {
   "cell_type": "code",
   "execution_count": null,
   "id": "d201b542",
   "metadata": {},
   "outputs": [],
   "source": [
    "svm_df = pd.DataFrame({'Date': forcasting_dates[-10:],\n",
    "                       'SVM Predictions - No. of Global Confirmed Cases': np.round(svm_pred[-10:])})\n",
    "svm_df.style.background_gradient(cmap='Greens')"
   ]
  },
  {
   "cell_type": "code",
   "execution_count": null,
   "id": "8296dee9",
   "metadata": {},
   "outputs": [],
   "source": [
    "bayesian_df = pd.DataFrame({'Date': forcasting_dates[-10:], \n",
    "                            'Bayesian Ridge Predictions - No of Confirmed Cases': np.round(bayesian_forcasting_pred[-10:])})\n",
    "bayesian_df.style.background_gradient(cmap='Greens')"
   ]
  },
  {
   "cell_type": "markdown",
   "id": "3f3df120",
   "metadata": {},
   "source": [
    "# Twitter Data Manipulation and Visualizations"
   ]
  },
  {
   "cell_type": "code",
   "execution_count": null,
   "id": "2b55bc9e",
   "metadata": {},
   "outputs": [],
   "source": [
    "# Now lets look at our twitter data\n",
    "twitter_df = twitter[:50000].copy()"
   ]
  },
  {
   "cell_type": "code",
   "execution_count": null,
   "id": "1aa4e5e7",
   "metadata": {},
   "outputs": [],
   "source": [
    "filtered_text = \",\".join(review for review in twitter_df.text if 'COVID' not in review and 'https' not in review and 'Covid' not in review)\n",
    "wordcloud = WordCloud(max_words=200, colormap='Set3', background_color=\"black\",width=1600, height=800).generate(filtered_text)\n",
    "\n",
    "plt.figure(figsize=(15, 10))\n",
    "plt.imshow(wordcloud, interpolation='bilinear')\n",
    "plt.axis(\"off\")\n",
    "plt.show()"
   ]
  },
  {
   "cell_type": "code",
   "execution_count": null,
   "id": "0dd77b53",
   "metadata": {},
   "outputs": [],
   "source": [
    "print('Count of covid19 tweets: {}\\n'.format(twitter_df.shape[0]))\n",
    "print('Unique user posts: {}\\n'.format(twitter_df.user_name.nunique()))\n",
    "print('Unique location posts: {}\\n'.format(twitter_df.user_location.nunique()))\n",
    "print('Users with more than 1 million followers(higher chances of spread): {}\\n'.format(twitter_df[twitter_df['user_followers']>1000000].user_name.nunique()))"
   ]
  },
  {
   "cell_type": "markdown",
   "id": "646a1a53",
   "metadata": {},
   "source": [
    "### Description of Data"
   ]
  },
  {
   "cell_type": "code",
   "execution_count": null,
   "id": "254f4767",
   "metadata": {},
   "outputs": [],
   "source": [
    "twitter_df.describe()"
   ]
  },
  {
   "cell_type": "code",
   "execution_count": null,
   "id": "6f1775a3",
   "metadata": {},
   "outputs": [],
   "source": [
    "plt.rcParams['figure.figsize'] = 8, 5\n",
    "plt.style.use(\"fivethirtyeight\")\n",
    "pd.options.plotting.backend = \"plotly\"\n",
    "\n",
    "fig = twitter_df.isnull().sum().reset_index().plot(kind='bar', x=0, y='index',color='index',color_discrete_sequence=px.colors.sequential.Aggrnyl)\n",
    "fig.update_layout(title='Mising Values Plot', xaxis_title='Count', yaxis_title='Column Names')\n",
    "fig.show()"
   ]
  },
  {
   "cell_type": "markdown",
   "id": "003ac0b0",
   "metadata": {},
   "source": [
    "From the above data we can tell that user location and user description wouldn't be as useful in deciding the sentiments of the tweets so no need to handle them."
   ]
  },
  {
   "cell_type": "code",
   "execution_count": null,
   "id": "51954fe4",
   "metadata": {},
   "outputs": [],
   "source": [
    "fig = px.box(twitter_df, y=\"user_followers\", color=\"user_verified\",\n",
    "                   title=\"User Followers Distribution\")\n",
    "fig.show()"
   ]
  },
  {
   "cell_type": "markdown",
   "id": "3cecb135",
   "metadata": {},
   "source": [
    "# Twitter Data Cleaning\n",
    "Ok now do some cleaning of our unstructured tweet data"
   ]
  },
  {
   "cell_type": "code",
   "execution_count": null,
   "id": "1bb72bc6",
   "metadata": {},
   "outputs": [],
   "source": [
    "import string\n",
    "\n",
    "def clean_text(text):\n",
    "    return re.sub('\\s+', ' ', re.sub('[%s]' % re.escape(string.punctuation), '', re.sub('<.*?>|https?://\\S+|www\\.\\S+|\\[.*?\\]|\\w*\\d\\w*', '', text.lower()))).strip()\n"
   ]
  },
  {
   "cell_type": "code",
   "execution_count": null,
   "id": "d0dc8a20",
   "metadata": {},
   "outputs": [],
   "source": [
    "twitter_df['text'] = twitter_df['text'].apply(lambda x: ' '.join(RegexpTokenizer(r'\\w+').tokenize(clean_text(x.lower()))))\n"
   ]
  },
  {
   "cell_type": "code",
   "execution_count": null,
   "id": "1384bd77",
   "metadata": {},
   "outputs": [],
   "source": [
    "twitter_df['hashtag_count'] = twitter_df['hashtags'].str.split(',').str.len()\n",
    "twitter_df['hashtag_count'] = twitter_df['hashtag_count'].fillna(0.0)\n",
    "fig = twitter_df.hashtag_count.value_counts().reset_index().head(7).plot(kind='bar', x='hashtag_count', y='count', color='hashtag_count',color_continuous_scale=px.colors.sequential.Viridis)\n",
    "fig.update_layout(title='Hashtag Count Distribution', xaxis_title='Hashtag Counts', yaxis_title='')\n",
    "fig.show()"
   ]
  },
  {
   "cell_type": "markdown",
   "id": "0386d0b8",
   "metadata": {},
   "source": [
    "### Let's explore the whole dataset now"
   ]
  },
  {
   "cell_type": "code",
   "execution_count": null,
   "id": "b8abfdcf",
   "metadata": {},
   "outputs": [],
   "source": [
    "fig = twitter_df['text'].str.split().str.len().plot(kind='hist')\n",
    "fig.update_layout(title=dict(text=\"Word Count Distribution\", font=dict(size=35)), xaxis_title='Word Count', yaxis_title='')\n",
    "fig.show()"
   ]
  },
  {
   "cell_type": "code",
   "execution_count": null,
   "id": "ebdcae44",
   "metadata": {},
   "outputs": [],
   "source": [
    "\n",
    "def show_top_few_words(corpus, n=None):\n",
    "    words_frequency = CountVectorizer().fit(corpus).transform(corpus).sum(axis=0)\n",
    "    words_frequency = [(word, words_frequency[0, idx]) for word, idx in CountVectorizer().fit(corpus).vocabulary_.items()]\n",
    "    return sorted(words_frequency, key=lambda x: x[1], reverse=True)[:n]\n",
    "\n",
    "common_words = show_top_few_words(twitter_df['text'], 15)\n",
    "df1 = pd.DataFrame(common_words, columns=['text', 'count'])\n",
    "fig = px.bar(df1, x='text', y='count', title='Before Removing Stop Words', labels={'count': 'Count'},\n",
    "             color_discrete_sequence=px.colors.sequential.Viridis)\n",
    "fig.update_layout(title=dict(text=\"Before Removing Stop Words\", font=dict(size=30)))\n",
    "fig.show()\n"
   ]
  },
  {
   "cell_type": "code",
   "execution_count": null,
   "id": "963a9bb5",
   "metadata": {},
   "outputs": [],
   "source": [
    "def get_top_n_words(corpus, n=None):\n",
    "    vec = CountVectorizer(stop_words = 'english').fit(corpus)\n",
    "    bag_of_words = vec.transform(corpus)\n",
    "    sum_words = bag_of_words.sum(axis=0) \n",
    "    words_freq = [(word, sum_words[0, idx]) for word, idx in vec.vocabulary_.items()]\n",
    "    words_freq =sorted(words_freq, key = lambda x: x[1], reverse=True)\n",
    "    return words_freq[:n]\n",
    "\n",
    "common_words = get_top_n_words(twitter_df['text'], 15)\n",
    "    \n",
    "df1 = pd.DataFrame(common_words, columns = ['text' , 'count'])\n",
    "fig = px.bar(df1, x='text', y='count', title='After Removing Stop Words', labels={'count': 'Count'},\n",
    "             color_discrete_sequence=px.colors.sequential.Viridis)\n",
    "fig.update_layout(title=dict(text=\"After Removing Stop Words\", font=dict(size=30)))\n",
    "fig.show()"
   ]
  },
  {
   "cell_type": "code",
   "execution_count": null,
   "id": "e0337658",
   "metadata": {},
   "outputs": [],
   "source": [
    "from sklearn.feature_extraction.text import CountVectorizer\n",
    "\n",
    "def with_bigram(corpus, n=None):\n",
    "    vectorizer = CountVectorizer(ngram_range=(2, 2)).fit(corpus)\n",
    "    bag_of_words = vectorizer.transform(corpus)\n",
    "    sum_words = bag_of_words.sum(axis=0) \n",
    "    words_frequency = [(word, sum_words[0, idx]) for word, idx in vectorizer.vocabulary_.items()]\n",
    "    words_frequency = sorted(words_frequency, key=lambda x: x[1], reverse=True)\n",
    "    return words_frequency[:n]\n",
    "\n",
    "common_words = with_bigram(twitter_df['text'], 20)\n",
    "\n",
    "df1 = pd.DataFrame(common_words, columns=['text', 'count'])\n",
    "fig = px.bar(df1, y='text', x='count', color='count',color_continuous_scale=px.colors.sequential.Viridis)\n",
    "fig.update_layout(yaxis_title='bigrams', title='Top 20 bigrams before removing stop words')\n",
    "fig.update_layout(title=dict(text=\"Top 20 bigrams before removing stop words\", font=dict(size=30)))\n",
    "fig.show()\n"
   ]
  },
  {
   "cell_type": "code",
   "execution_count": null,
   "id": "f65ac746",
   "metadata": {},
   "outputs": [],
   "source": [
    "def without_bigram(corpus, n=None):\n",
    "    vectorizer = CountVectorizer(ngram_range=(2, 2), stop_words='english').fit(corpus)\n",
    "    bag_of_words = vectorizer.transform(corpus)\n",
    "    sum_words = bag_of_words.sum(axis=0) \n",
    "    words_frequency = [(word, sum_words[0, idx]) for word, idx in vectorizer.vocabulary_.items()]\n",
    "    words_frequency =sorted(words_frequency, key = lambda x: x[1], reverse=True)\n",
    "    return words_frequency[:n]\n",
    "\n",
    "common_words = without_bigram(twitter_df['text'], 20)\n",
    "\n",
    "df1 = pd.DataFrame(common_words, columns = ['text' , 'count'])\n",
    "fig = px.bar(df1, y='text', x='count', color='count',color_continuous_scale=px.colors.sequential.Viridis)\n",
    "fig.update_layout(yaxis_title='bigrams', title='Top 20 bigrams after removing stop words')\n",
    "fig.update_layout(title=dict(text=\"Top 20 bigrams after removing stop words\", font=dict(size=30)))\n",
    "fig.show()\n"
   ]
  },
  {
   "cell_type": "markdown",
   "id": "179e0b8d",
   "metadata": {},
   "source": [
    "now we do some Sentimental Analysis with Sentimental analysis model"
   ]
  },
  {
   "cell_type": "code",
   "execution_count": null,
   "id": "6f5f0f01",
   "metadata": {},
   "outputs": [],
   "source": [
    "model = SentimentIntensityAnalyzer()\n",
    "\n",
    "def sentiment_score(txt):\n",
    "    return model.polarity_scores(txt)['compound']\n",
    "\n",
    "twitter_df[\"sentiment_score\"] = twitter_df[\"text\"].apply(sentiment_score)"
   ]
  },
  {
   "cell_type": "code",
   "execution_count": null,
   "id": "b83c521c",
   "metadata": {},
   "outputs": [],
   "source": [
    "twitter_df['sentiment_score'].head(5)"
   ]
  },
  {
   "cell_type": "code",
   "execution_count": null,
   "id": "b307863e",
   "metadata": {},
   "outputs": [],
   "source": [
    "fig = px.violin(twitter_df, y=\"sentiment_score\", color=\"user_verified\",\n",
    "                   title=\"Sentiment Score Distribution\")\n",
    "fig.update_layout(title=dict(text=\"Sentiment Score Distribution\", font=dict(size=30)))\n",
    "\n",
    "fig.show()"
   ]
  },
  {
   "cell_type": "markdown",
   "id": "cef784d2",
   "metadata": {},
   "source": [
    "The data looks quite evenly distributed"
   ]
  },
  {
   "cell_type": "code",
   "execution_count": null,
   "id": "7470605d",
   "metadata": {},
   "outputs": [],
   "source": [
    "dummy_df = twitter_df[twitter_df['sentiment_score']>0.5]\n",
    "\n",
    "fig = dummy_df['user_location'].value_counts().reset_index().head(10).plot(kind='bar', y='count', x='user_location', color='user_location')\n",
    "fig.update_layout(title='Most positive Tweets orgin Countries', xaxis_title='Location', yaxis_title='')\n",
    "fig.update_layout(title=dict(text=\"Most positive Tweets orgin Countries\", font=dict(size=30)))\n",
    "fig.show()"
   ]
  },
  {
   "cell_type": "code",
   "execution_count": null,
   "id": "f4a4733f",
   "metadata": {},
   "outputs": [],
   "source": [
    "twitter_df"
   ]
  },
  {
   "cell_type": "code",
   "execution_count": null,
   "id": "e14ba8a9",
   "metadata": {},
   "outputs": [],
   "source": [
    "from sklearn.decomposition import TruncatedSVD\n",
    "from sklearn.cluster import KMeans\n",
    "# Truncated SVD is a stochastic algorithm. We set the random seed to ensure a consistant output.\n",
    "np.random.seed(0)\n",
    "vectorizer = TfidfVectorizer(stop_words='english')\n",
    "# This matrix has been normalized under default settings\n",
    "tfidf_matrix = vectorizer.fit_transform(twitter_df.text)"
   ]
  },
  {
   "cell_type": "code",
   "execution_count": null,
   "id": "dd6c25a6",
   "metadata": {},
   "outputs": [],
   "source": [
    "# Truncated SVD is a stochastic algorithm. We set the random seed to ensure a consistant output.\n",
    "np.random.seed(0)\n",
    "lsa_matrix = TruncatedSVD(n_components=100).fit_transform(tfidf_matrix)"
   ]
  },
  {
   "cell_type": "code",
   "execution_count": null,
   "id": "f93add5b",
   "metadata": {},
   "outputs": [],
   "source": [
    "np.random.seed(0)\n",
    "\n",
    "# Assuming twitter_df['text'] is a column containing text data\n",
    "vectorizer = TfidfVectorizer(stop_words='english')\n",
    "tfidf_matrix = vectorizer.fit_transform(twitter_df['text'])\n",
    "\n",
    "# Perform Truncated SVD\n",
    "lsa_matrix = TruncatedSVD(n_components=100).fit_transform(tfidf_matrix)\n",
    "\n",
    "# Normalize the matrix\n",
    "\n",
    "\n",
    "# Apply KMeans clustering\n",
    "clusters = KMeans(n_clusters=20).fit_predict(lsa_matrix)\n"
   ]
  },
  {
   "cell_type": "code",
   "execution_count": null,
   "id": "f6532d76",
   "metadata": {},
   "outputs": [],
   "source": [
    "twitter_df['cluster'] = clusters\n",
    "# Clusters are stored as DataFrames for easier analysis.\n",
    "cluster_groups = [df_cluster for  _, df_cluster in twitter_df.groupby('cluster')]"
   ]
  },
  {
   "cell_type": "code",
   "execution_count": null,
   "id": "96c4e0a2",
   "metadata": {},
   "outputs": [],
   "source": [
    "cluster_groups[0].head()"
   ]
  },
  {
   "cell_type": "code",
   "execution_count": null,
   "id": "c28da7ca",
   "metadata": {},
   "outputs": [],
   "source": [
    "def cluster_to_image(df_cluster, max_words=10, tfidf_matrix=tfidf_matrix,\n",
    "                     vectorizer=vectorizer):\n",
    "    indices = df_cluster.index.values\n",
    "    summed_tfidf = np.asarray(tfidf_matrix[indices].sum(axis=0))[0]\n",
    "    data = {'Word': vectorizer.get_feature_names_out(),'Summed TFIDF': summed_tfidf}  \n",
    "    # Words are ranked by their summed TFIDF values.\n",
    "    df_ranked_words = pd.DataFrame(data).sort_values('Summed TFIDF', ascending=False)\n",
    "    words_to_score = {word: score\n",
    "                     for word, score in df_ranked_words[:max_words].values\n",
    "                     if score != 0}\n",
    "    \n",
    "    # The word cloud's color parameters are modefied to maximize readability.\n",
    "    cloud_generator = WordCloud(background_color='white',\n",
    "                                color_func=_color_func,\n",
    "                                random_state=1)\n",
    "    wordcloud_image = cloud_generator.fit_words(words_to_score)\n",
    "    return wordcloud_image\n",
    "\n",
    "def _color_func(*args, **kwargs):\n",
    "    # This helper function will randomly assign one of 5 easy-to-read colors to each word.\n",
    "    return np.random.choice(['black', 'blue', 'teal', 'purple', 'brown'])\n"
   ]
  },
  {
   "cell_type": "code",
   "execution_count": null,
   "id": "8591bccf",
   "metadata": {},
   "outputs": [],
   "source": [
    "def plot_wordcloud_grid(cluster_groups, num_rows=5, num_columns=4):\n",
    "    plt.style.use('classic')\n",
    "    # This function plots all clusters as word-clouds in 5x4 subplot grid.\n",
    "    figure, axes = plt.subplots(num_rows, num_columns, figsize=(20, 15))\n",
    "    cluster_groups_copy = cluster_groups[:]\n",
    "    for r in range(num_rows):\n",
    "        for c in range(num_columns):\n",
    "            if not cluster_groups_copy:\n",
    "                break\n",
    "                \n",
    "            df_cluster = cluster_groups_copy.pop(0)\n",
    "            wordcloud_image = cluster_to_image(df_cluster)\n",
    "            ax = axes[r][c]\n",
    "            ax.imshow(wordcloud_image, interpolation=\"bilinear\")   \n",
    "            # The title of each subplot contains the cluster id, as well as the cluster size.\n",
    "            ax.set_title(f\"Cluster {df_cluster.cluster.iloc[0]}: {df_cluster.shape[0]}\")\n",
    "            ax.set_xticks([])\n",
    "            ax.set_yticks([])\n",
    "\n",
    "plot_wordcloud_grid(cluster_groups)\n",
    "\n",
    "plt.show()"
   ]
  },
  {
   "cell_type": "code",
   "execution_count": null,
   "id": "4f753ff0",
   "metadata": {},
   "outputs": [],
   "source": []
  },
  {
   "cell_type": "code",
   "execution_count": null,
   "id": "4c31a7c5",
   "metadata": {},
   "outputs": [],
   "source": []
  },
  {
   "cell_type": "code",
   "execution_count": null,
   "id": "c53354f1",
   "metadata": {},
   "outputs": [],
   "source": []
  },
  {
   "cell_type": "code",
   "execution_count": null,
   "id": "73e5b331",
   "metadata": {},
   "outputs": [],
   "source": []
  },
  {
   "cell_type": "code",
   "execution_count": null,
   "id": "6f3846fe",
   "metadata": {},
   "outputs": [],
   "source": []
  },
  {
   "cell_type": "code",
   "execution_count": null,
   "id": "58d21bb1",
   "metadata": {},
   "outputs": [],
   "source": []
  },
  {
   "cell_type": "code",
   "execution_count": null,
   "id": "52903fc7",
   "metadata": {},
   "outputs": [],
   "source": []
  },
  {
   "cell_type": "code",
   "execution_count": null,
   "id": "55d1a886",
   "metadata": {},
   "outputs": [],
   "source": []
  },
  {
   "cell_type": "code",
   "execution_count": null,
   "id": "e7b04b29",
   "metadata": {},
   "outputs": [],
   "source": []
  },
  {
   "cell_type": "code",
   "execution_count": null,
   "id": "87a8d67e",
   "metadata": {},
   "outputs": [],
   "source": []
  },
  {
   "cell_type": "code",
   "execution_count": null,
   "id": "c58ca001",
   "metadata": {},
   "outputs": [],
   "source": []
  },
  {
   "cell_type": "code",
   "execution_count": null,
   "id": "787a190d",
   "metadata": {},
   "outputs": [],
   "source": []
  },
  {
   "cell_type": "code",
   "execution_count": null,
   "id": "b9da465a",
   "metadata": {},
   "outputs": [],
   "source": []
  },
  {
   "cell_type": "code",
   "execution_count": null,
   "id": "0e8dc60b",
   "metadata": {},
   "outputs": [],
   "source": []
  },
  {
   "cell_type": "code",
   "execution_count": null,
   "id": "271d3ee1",
   "metadata": {},
   "outputs": [],
   "source": []
  },
  {
   "cell_type": "code",
   "execution_count": null,
   "id": "531b7835",
   "metadata": {},
   "outputs": [],
   "source": []
  },
  {
   "cell_type": "code",
   "execution_count": null,
   "id": "11c2460f",
   "metadata": {},
   "outputs": [],
   "source": []
  },
  {
   "cell_type": "code",
   "execution_count": null,
   "id": "4ee5e084",
   "metadata": {},
   "outputs": [],
   "source": []
  },
  {
   "cell_type": "code",
   "execution_count": null,
   "id": "6403cea3",
   "metadata": {},
   "outputs": [],
   "source": []
  },
  {
   "cell_type": "code",
   "execution_count": null,
   "id": "21729ebc",
   "metadata": {},
   "outputs": [],
   "source": []
  },
  {
   "cell_type": "code",
   "execution_count": null,
   "id": "e447e4ba",
   "metadata": {},
   "outputs": [],
   "source": []
  },
  {
   "cell_type": "code",
   "execution_count": null,
   "id": "9daadc32",
   "metadata": {},
   "outputs": [],
   "source": []
  },
  {
   "cell_type": "code",
   "execution_count": null,
   "id": "d45d52c2",
   "metadata": {},
   "outputs": [],
   "source": []
  },
  {
   "cell_type": "code",
   "execution_count": null,
   "id": "7332f2bc",
   "metadata": {},
   "outputs": [],
   "source": []
  },
  {
   "cell_type": "code",
   "execution_count": null,
   "id": "03f4373e",
   "metadata": {},
   "outputs": [],
   "source": []
  },
  {
   "cell_type": "code",
   "execution_count": null,
   "id": "180fa37f",
   "metadata": {},
   "outputs": [],
   "source": []
  },
  {
   "cell_type": "code",
   "execution_count": null,
   "id": "21c7b4bd",
   "metadata": {},
   "outputs": [],
   "source": []
  },
  {
   "cell_type": "code",
   "execution_count": null,
   "id": "d7a716c9",
   "metadata": {},
   "outputs": [],
   "source": []
  },
  {
   "cell_type": "code",
   "execution_count": null,
   "id": "e57862b4",
   "metadata": {},
   "outputs": [],
   "source": []
  },
  {
   "cell_type": "code",
   "execution_count": null,
   "id": "c0325543",
   "metadata": {},
   "outputs": [],
   "source": []
  },
  {
   "cell_type": "code",
   "execution_count": null,
   "id": "0634d654",
   "metadata": {},
   "outputs": [],
   "source": []
  },
  {
   "cell_type": "code",
   "execution_count": null,
   "id": "dcbbabe5",
   "metadata": {},
   "outputs": [],
   "source": []
  },
  {
   "cell_type": "code",
   "execution_count": null,
   "id": "078fea6a",
   "metadata": {},
   "outputs": [],
   "source": []
  },
  {
   "cell_type": "code",
   "execution_count": null,
   "id": "55353d6f",
   "metadata": {},
   "outputs": [],
   "source": []
  },
  {
   "cell_type": "code",
   "execution_count": null,
   "id": "44d629a3",
   "metadata": {},
   "outputs": [],
   "source": []
  },
  {
   "cell_type": "code",
   "execution_count": null,
   "id": "bd53ae9a",
   "metadata": {},
   "outputs": [],
   "source": []
  },
  {
   "cell_type": "code",
   "execution_count": null,
   "id": "04d4f0b4",
   "metadata": {},
   "outputs": [],
   "source": []
  },
  {
   "cell_type": "code",
   "execution_count": null,
   "id": "ce6370eb",
   "metadata": {},
   "outputs": [],
   "source": []
  },
  {
   "cell_type": "code",
   "execution_count": null,
   "id": "8e359fa6",
   "metadata": {},
   "outputs": [],
   "source": []
  },
  {
   "cell_type": "code",
   "execution_count": null,
   "id": "96b8f993",
   "metadata": {},
   "outputs": [],
   "source": []
  },
  {
   "cell_type": "code",
   "execution_count": null,
   "id": "48e89a2f",
   "metadata": {},
   "outputs": [],
   "source": []
  },
  {
   "cell_type": "code",
   "execution_count": null,
   "id": "6380145b",
   "metadata": {},
   "outputs": [],
   "source": []
  },
  {
   "cell_type": "code",
   "execution_count": null,
   "id": "6514ab1e",
   "metadata": {},
   "outputs": [],
   "source": []
  },
  {
   "cell_type": "code",
   "execution_count": null,
   "id": "28556fbb",
   "metadata": {},
   "outputs": [],
   "source": []
  },
  {
   "cell_type": "code",
   "execution_count": null,
   "id": "41d3505d",
   "metadata": {},
   "outputs": [],
   "source": []
  },
  {
   "cell_type": "code",
   "execution_count": null,
   "id": "f752b0c7",
   "metadata": {},
   "outputs": [],
   "source": []
  },
  {
   "cell_type": "code",
   "execution_count": null,
   "id": "02efe7b1",
   "metadata": {},
   "outputs": [],
   "source": []
  },
  {
   "cell_type": "code",
   "execution_count": null,
   "id": "e9e4f975",
   "metadata": {},
   "outputs": [],
   "source": []
  },
  {
   "cell_type": "code",
   "execution_count": null,
   "id": "4d7f43ea",
   "metadata": {},
   "outputs": [],
   "source": []
  },
  {
   "cell_type": "code",
   "execution_count": null,
   "id": "ebc49302",
   "metadata": {},
   "outputs": [],
   "source": []
  },
  {
   "cell_type": "code",
   "execution_count": null,
   "id": "5e924fd5",
   "metadata": {},
   "outputs": [],
   "source": []
  },
  {
   "cell_type": "code",
   "execution_count": null,
   "id": "ea685102",
   "metadata": {},
   "outputs": [],
   "source": []
  },
  {
   "cell_type": "code",
   "execution_count": null,
   "id": "b40dc9d5",
   "metadata": {},
   "outputs": [],
   "source": []
  },
  {
   "cell_type": "code",
   "execution_count": null,
   "id": "3224a39e",
   "metadata": {},
   "outputs": [],
   "source": []
  },
  {
   "cell_type": "code",
   "execution_count": null,
   "id": "17bcf5cc",
   "metadata": {},
   "outputs": [],
   "source": []
  },
  {
   "cell_type": "code",
   "execution_count": null,
   "id": "b18ee85b",
   "metadata": {},
   "outputs": [],
   "source": []
  },
  {
   "cell_type": "code",
   "execution_count": null,
   "id": "e969b065",
   "metadata": {},
   "outputs": [],
   "source": []
  },
  {
   "cell_type": "code",
   "execution_count": null,
   "id": "a0dff252",
   "metadata": {},
   "outputs": [],
   "source": []
  },
  {
   "cell_type": "code",
   "execution_count": null,
   "id": "95564f7f",
   "metadata": {},
   "outputs": [],
   "source": []
  },
  {
   "cell_type": "code",
   "execution_count": null,
   "id": "2f6c85f5",
   "metadata": {},
   "outputs": [],
   "source": []
  },
  {
   "cell_type": "code",
   "execution_count": null,
   "id": "4755c490",
   "metadata": {},
   "outputs": [],
   "source": []
  },
  {
   "cell_type": "code",
   "execution_count": null,
   "id": "145314fd",
   "metadata": {},
   "outputs": [],
   "source": []
  },
  {
   "cell_type": "code",
   "execution_count": null,
   "id": "626f728f",
   "metadata": {},
   "outputs": [],
   "source": []
  },
  {
   "cell_type": "code",
   "execution_count": null,
   "id": "7f61fbee",
   "metadata": {},
   "outputs": [],
   "source": []
  },
  {
   "cell_type": "code",
   "execution_count": null,
   "id": "22c2eeaa",
   "metadata": {},
   "outputs": [],
   "source": []
  },
  {
   "cell_type": "code",
   "execution_count": null,
   "id": "981698f6",
   "metadata": {},
   "outputs": [],
   "source": []
  },
  {
   "cell_type": "code",
   "execution_count": null,
   "id": "e7e23e28",
   "metadata": {},
   "outputs": [],
   "source": []
  },
  {
   "cell_type": "code",
   "execution_count": null,
   "id": "545d0942",
   "metadata": {},
   "outputs": [],
   "source": []
  },
  {
   "cell_type": "code",
   "execution_count": null,
   "id": "8a9fdb99",
   "metadata": {},
   "outputs": [],
   "source": []
  },
  {
   "cell_type": "code",
   "execution_count": null,
   "id": "083fa8b3",
   "metadata": {},
   "outputs": [],
   "source": []
  },
  {
   "cell_type": "code",
   "execution_count": null,
   "id": "7ffc7f4b",
   "metadata": {},
   "outputs": [],
   "source": []
  },
  {
   "cell_type": "code",
   "execution_count": null,
   "id": "d5d31f07",
   "metadata": {},
   "outputs": [],
   "source": []
  },
  {
   "cell_type": "code",
   "execution_count": null,
   "id": "bd5cac14",
   "metadata": {},
   "outputs": [],
   "source": []
  },
  {
   "cell_type": "code",
   "execution_count": null,
   "id": "ac0ac7f7",
   "metadata": {},
   "outputs": [],
   "source": []
  },
  {
   "cell_type": "code",
   "execution_count": null,
   "id": "39d13926",
   "metadata": {},
   "outputs": [],
   "source": []
  },
  {
   "cell_type": "code",
   "execution_count": null,
   "id": "fafc60db",
   "metadata": {},
   "outputs": [],
   "source": []
  },
  {
   "cell_type": "code",
   "execution_count": null,
   "id": "447a9062",
   "metadata": {},
   "outputs": [],
   "source": []
  },
  {
   "cell_type": "code",
   "execution_count": null,
   "id": "b1965cc2",
   "metadata": {},
   "outputs": [],
   "source": []
  },
  {
   "cell_type": "code",
   "execution_count": null,
   "id": "a52efca1",
   "metadata": {},
   "outputs": [],
   "source": []
  },
  {
   "cell_type": "code",
   "execution_count": null,
   "id": "a8f727db",
   "metadata": {},
   "outputs": [],
   "source": []
  },
  {
   "cell_type": "code",
   "execution_count": null,
   "id": "78cc27b6",
   "metadata": {},
   "outputs": [],
   "source": []
  },
  {
   "cell_type": "code",
   "execution_count": null,
   "id": "805e32dc",
   "metadata": {},
   "outputs": [],
   "source": []
  },
  {
   "cell_type": "code",
   "execution_count": null,
   "id": "8a62cf53",
   "metadata": {},
   "outputs": [],
   "source": []
  },
  {
   "cell_type": "code",
   "execution_count": null,
   "id": "b06dfc9d",
   "metadata": {},
   "outputs": [],
   "source": []
  },
  {
   "cell_type": "code",
   "execution_count": null,
   "id": "e46463d7",
   "metadata": {},
   "outputs": [],
   "source": []
  },
  {
   "cell_type": "code",
   "execution_count": null,
   "id": "45d3f9ed",
   "metadata": {},
   "outputs": [],
   "source": []
  },
  {
   "cell_type": "code",
   "execution_count": null,
   "id": "7dae9178",
   "metadata": {},
   "outputs": [],
   "source": []
  },
  {
   "cell_type": "code",
   "execution_count": null,
   "id": "7cc66d3d",
   "metadata": {},
   "outputs": [],
   "source": []
  },
  {
   "cell_type": "code",
   "execution_count": null,
   "id": "eae29b22",
   "metadata": {},
   "outputs": [],
   "source": []
  },
  {
   "cell_type": "code",
   "execution_count": null,
   "id": "111ebbc4",
   "metadata": {},
   "outputs": [],
   "source": []
  },
  {
   "cell_type": "code",
   "execution_count": null,
   "id": "cafaab5b",
   "metadata": {},
   "outputs": [],
   "source": []
  },
  {
   "cell_type": "code",
   "execution_count": null,
   "id": "d066b34b",
   "metadata": {},
   "outputs": [],
   "source": []
  },
  {
   "cell_type": "code",
   "execution_count": null,
   "id": "42997422",
   "metadata": {},
   "outputs": [],
   "source": []
  },
  {
   "cell_type": "code",
   "execution_count": null,
   "id": "a2c03c23",
   "metadata": {},
   "outputs": [],
   "source": []
  },
  {
   "cell_type": "code",
   "execution_count": null,
   "id": "d1e42cad",
   "metadata": {},
   "outputs": [],
   "source": []
  },
  {
   "cell_type": "code",
   "execution_count": null,
   "id": "f806dc4b",
   "metadata": {},
   "outputs": [],
   "source": []
  },
  {
   "cell_type": "code",
   "execution_count": null,
   "id": "8b5e12e0",
   "metadata": {},
   "outputs": [],
   "source": []
  },
  {
   "cell_type": "code",
   "execution_count": null,
   "id": "4e7fff82",
   "metadata": {},
   "outputs": [],
   "source": []
  },
  {
   "cell_type": "code",
   "execution_count": null,
   "id": "c4ca7dee",
   "metadata": {},
   "outputs": [],
   "source": []
  },
  {
   "cell_type": "code",
   "execution_count": null,
   "id": "904e9264",
   "metadata": {},
   "outputs": [],
   "source": []
  },
  {
   "cell_type": "code",
   "execution_count": null,
   "id": "02639c77",
   "metadata": {},
   "outputs": [],
   "source": []
  },
  {
   "cell_type": "code",
   "execution_count": null,
   "id": "498a9675",
   "metadata": {},
   "outputs": [],
   "source": []
  },
  {
   "cell_type": "code",
   "execution_count": null,
   "id": "20c4572e",
   "metadata": {},
   "outputs": [],
   "source": []
  },
  {
   "cell_type": "code",
   "execution_count": null,
   "id": "decf3653",
   "metadata": {},
   "outputs": [],
   "source": []
  },
  {
   "cell_type": "code",
   "execution_count": null,
   "id": "d5331605",
   "metadata": {},
   "outputs": [],
   "source": []
  },
  {
   "cell_type": "code",
   "execution_count": null,
   "id": "855aca11",
   "metadata": {},
   "outputs": [],
   "source": []
  },
  {
   "cell_type": "code",
   "execution_count": null,
   "id": "331addc7",
   "metadata": {},
   "outputs": [],
   "source": []
  },
  {
   "cell_type": "code",
   "execution_count": null,
   "id": "4083bed9",
   "metadata": {},
   "outputs": [],
   "source": []
  },
  {
   "cell_type": "code",
   "execution_count": null,
   "id": "d1719a27",
   "metadata": {},
   "outputs": [],
   "source": []
  },
  {
   "cell_type": "code",
   "execution_count": null,
   "id": "2c609875",
   "metadata": {},
   "outputs": [],
   "source": []
  },
  {
   "cell_type": "code",
   "execution_count": null,
   "id": "d7bbed7c",
   "metadata": {},
   "outputs": [],
   "source": []
  },
  {
   "cell_type": "code",
   "execution_count": null,
   "id": "17e64be2",
   "metadata": {},
   "outputs": [],
   "source": []
  },
  {
   "cell_type": "code",
   "execution_count": null,
   "id": "c383ff72",
   "metadata": {},
   "outputs": [],
   "source": []
  },
  {
   "cell_type": "code",
   "execution_count": null,
   "id": "cf69220a",
   "metadata": {},
   "outputs": [],
   "source": []
  },
  {
   "cell_type": "code",
   "execution_count": null,
   "id": "6f2ccd89",
   "metadata": {},
   "outputs": [],
   "source": []
  },
  {
   "cell_type": "code",
   "execution_count": null,
   "id": "65df1ff8",
   "metadata": {},
   "outputs": [],
   "source": []
  },
  {
   "cell_type": "code",
   "execution_count": null,
   "id": "ad4179b3",
   "metadata": {},
   "outputs": [],
   "source": []
  },
  {
   "cell_type": "code",
   "execution_count": null,
   "id": "72a816f9",
   "metadata": {},
   "outputs": [],
   "source": []
  },
  {
   "cell_type": "code",
   "execution_count": null,
   "id": "c041d8ff",
   "metadata": {},
   "outputs": [],
   "source": []
  },
  {
   "cell_type": "code",
   "execution_count": null,
   "id": "f5312550",
   "metadata": {},
   "outputs": [],
   "source": []
  },
  {
   "cell_type": "code",
   "execution_count": null,
   "id": "d3abf531",
   "metadata": {},
   "outputs": [],
   "source": []
  },
  {
   "cell_type": "code",
   "execution_count": null,
   "id": "7a8227cd",
   "metadata": {},
   "outputs": [],
   "source": []
  },
  {
   "cell_type": "code",
   "execution_count": null,
   "id": "1b9925dd",
   "metadata": {},
   "outputs": [],
   "source": []
  },
  {
   "cell_type": "code",
   "execution_count": null,
   "id": "cb236516",
   "metadata": {},
   "outputs": [],
   "source": []
  },
  {
   "cell_type": "code",
   "execution_count": null,
   "id": "3fc2efd5",
   "metadata": {},
   "outputs": [],
   "source": []
  },
  {
   "cell_type": "code",
   "execution_count": null,
   "id": "b0e111cd",
   "metadata": {},
   "outputs": [],
   "source": []
  },
  {
   "cell_type": "code",
   "execution_count": null,
   "id": "8ba91e73",
   "metadata": {},
   "outputs": [],
   "source": []
  },
  {
   "cell_type": "code",
   "execution_count": null,
   "id": "c1f3c808",
   "metadata": {},
   "outputs": [],
   "source": []
  },
  {
   "cell_type": "code",
   "execution_count": null,
   "id": "85058b1c",
   "metadata": {},
   "outputs": [],
   "source": []
  },
  {
   "cell_type": "code",
   "execution_count": null,
   "id": "f45bd0a2",
   "metadata": {},
   "outputs": [],
   "source": []
  },
  {
   "cell_type": "code",
   "execution_count": null,
   "id": "3e74ac79",
   "metadata": {},
   "outputs": [],
   "source": []
  },
  {
   "cell_type": "code",
   "execution_count": null,
   "id": "1facf3b2",
   "metadata": {},
   "outputs": [],
   "source": []
  },
  {
   "cell_type": "code",
   "execution_count": null,
   "id": "68bea915",
   "metadata": {},
   "outputs": [],
   "source": []
  },
  {
   "cell_type": "code",
   "execution_count": null,
   "id": "eecdc9ef",
   "metadata": {},
   "outputs": [],
   "source": []
  },
  {
   "cell_type": "code",
   "execution_count": null,
   "id": "28bd2ad4",
   "metadata": {},
   "outputs": [],
   "source": []
  },
  {
   "cell_type": "code",
   "execution_count": null,
   "id": "5da87727",
   "metadata": {},
   "outputs": [],
   "source": []
  },
  {
   "cell_type": "code",
   "execution_count": null,
   "id": "82ed50a3",
   "metadata": {},
   "outputs": [],
   "source": []
  },
  {
   "cell_type": "code",
   "execution_count": null,
   "id": "746aa109",
   "metadata": {},
   "outputs": [],
   "source": []
  },
  {
   "cell_type": "code",
   "execution_count": null,
   "id": "b1e5156b",
   "metadata": {},
   "outputs": [],
   "source": []
  },
  {
   "cell_type": "code",
   "execution_count": null,
   "id": "894fa244",
   "metadata": {},
   "outputs": [],
   "source": []
  },
  {
   "cell_type": "code",
   "execution_count": null,
   "id": "db0f82a6",
   "metadata": {},
   "outputs": [],
   "source": []
  },
  {
   "cell_type": "code",
   "execution_count": null,
   "id": "87b33da7",
   "metadata": {},
   "outputs": [],
   "source": []
  },
  {
   "cell_type": "code",
   "execution_count": null,
   "id": "f21ac5a1",
   "metadata": {},
   "outputs": [],
   "source": []
  },
  {
   "cell_type": "code",
   "execution_count": null,
   "id": "8a3ef9f3",
   "metadata": {},
   "outputs": [],
   "source": []
  },
  {
   "cell_type": "code",
   "execution_count": null,
   "id": "af1576e3",
   "metadata": {},
   "outputs": [],
   "source": []
  },
  {
   "cell_type": "code",
   "execution_count": null,
   "id": "1e3c1554",
   "metadata": {},
   "outputs": [],
   "source": []
  },
  {
   "cell_type": "code",
   "execution_count": null,
   "id": "5863dde8",
   "metadata": {},
   "outputs": [],
   "source": []
  },
  {
   "cell_type": "code",
   "execution_count": null,
   "id": "0fde7d98",
   "metadata": {},
   "outputs": [],
   "source": []
  },
  {
   "cell_type": "code",
   "execution_count": null,
   "id": "530d149e",
   "metadata": {},
   "outputs": [],
   "source": []
  },
  {
   "cell_type": "code",
   "execution_count": null,
   "id": "40aaf03d",
   "metadata": {},
   "outputs": [],
   "source": []
  },
  {
   "cell_type": "code",
   "execution_count": null,
   "id": "c437964f",
   "metadata": {},
   "outputs": [],
   "source": []
  },
  {
   "cell_type": "code",
   "execution_count": null,
   "id": "684858fe",
   "metadata": {},
   "outputs": [],
   "source": []
  },
  {
   "cell_type": "code",
   "execution_count": null,
   "id": "af9a5fc0",
   "metadata": {},
   "outputs": [],
   "source": []
  },
  {
   "cell_type": "code",
   "execution_count": null,
   "id": "02141986",
   "metadata": {},
   "outputs": [],
   "source": []
  }
 ],
 "metadata": {
  "kernelspec": {
   "display_name": "masters",
   "language": "python",
   "name": "masters"
  },
  "language_info": {
   "codemirror_mode": {
    "name": "ipython",
    "version": 3
   },
   "file_extension": ".py",
   "mimetype": "text/x-python",
   "name": "python",
   "nbconvert_exporter": "python",
   "pygments_lexer": "ipython3",
   "version": "3.11.5"
  }
 },
 "nbformat": 4,
 "nbformat_minor": 5
}
